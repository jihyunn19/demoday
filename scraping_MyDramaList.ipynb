{
 "cells": [
  {
   "cell_type": "code",
   "execution_count": 1,
   "metadata": {},
   "outputs": [],
   "source": [
    "from selenium import webdriver\n",
    "from bs4 import BeautifulSoup\n",
    "import pandas as pd\n",
    "import time\n"
   ]
  },
  {
   "cell_type": "code",
   "execution_count": 3,
   "metadata": {},
   "outputs": [],
   "source": [
    "driver = webdriver.Chrome('C:/Users/Hanna Kim/Desktop/공공데이터 공모전/chromedriver')\n",
    "driver.get(\"https://mydramalist.com/reviews/shows\")\n",
    "#     driver.find_element_by_xpath('//*[@id=\"loginPop\"]/div/button[1]').click() # 비회원로그인 클릭\n",
    "#     driver.find_element_by_xpath(\"//option[@value='1']\").click() # 2020년 1분기 기준 (2분기인 경우 숫자 2로 바꾸면 됨)\n",
    "#     driver.find_element_by_xpath(\"//option[@value='CS100000']\").click() # 업종 대분류 - 외식업 선택\n",
    "#     driver.implicitly_wait(3)                                      # 드라이버 대기시간\n",
    "#     driver.find_element_by_xpath(f\"//option[@value='CS1000{num}']\").click() # 업종 중분류 선택 \n",
    "#     driver.find_element_by_xpath(\"//option[@value='store']\").click() # 정보 분류 - 점포수 선택\n",
    "#     driver.find_element_by_xpath('//*[@id=\"presentSearch\"]').click() # 검색 클릭\n",
    "#     time.sleep(10)                                               # 시간 래그 (이후 반복적 scraping과정에서 오류 줄이기 위함)\n",
    "html = driver.page_source\n",
    "soup = BeautifulSoup(html, 'html.parser')\n"
   ]
  },
  {
   "cell_type": "code",
   "execution_count": 29,
   "metadata": {},
   "outputs": [
    {
     "data": {
      "text/plain": [
       "<html lang=\"en-US\"><head>\n",
       "<title>Reviews - MyDramaList</title>\n",
       "<meta content=\"text/html; charset=utf-8\" http-equiv=\"Content-Type\"/>\n",
       "<meta content=\"ah4Ms39gXDkmvj6o\" name=\"csrf-token\"/>\n",
       "<meta content=\"1yuelvqb\" name=\"webgains-site-verification\"/>\n",
       "<meta content=\"IE=edge,chrome=1\" http-equiv=\"X-UA-Compatible\"/>\n",
       "<meta content=\"width=device-width, initial-scale=1, maximum-scale=1\" name=\"viewport\"/>\n",
       "<meta content=\"#015284\" name=\"theme-color\"/>\n",
       "<meta content=\"dmg5lpc1ng53ymvet\" name=\"dailymotion-domain-verification\"/>\n",
       "<link href=\"//fonts.googleapis.com/css?family=Lato:300,350,300i,400,400i,700\" rel=\"stylesheet\"/>\n",
       "<link href=\"https://mydramalist.com.com/reviews/shows\" hreflang=\"x-default\" rel=\"alternate\"/>\n",
       "<link href=\"https://es.mydramalist.com.com/reviews/shows\" hreflang=\"es-es\" rel=\"alternate\"/>\n",
       "<link href=\"https://pt.mydramalist.com.com/reviews/shows\" hreflang=\"pt-pt\" rel=\"alternate\"/>\n",
       "<link href=\"https://mydramalist.com.com/reviews/shows\" hreflang=\"en-us\" rel=\"alternate\"/>\n",
       "<script async=\"\" src=\"https://d31qbv1cthcecs.cloudfront.net/atrk.js\" type=\"text/javascript\"></script><script async=\"\" src=\"//d3lcz8vpax4lo2.cloudfront.net/ads-code/6b9d235a-6151-4bd2-8c1a-8d2a0761463b.js\"></script><script async=\"\" src=\"//www.google-analytics.com/analytics.js\"></script><script src=\"/assets/js/jquery.min.js\" type=\"text/javascript\"></script>\n",
       "<link href=\"/dist/css/main.css?v=6.4.27d42\" rel=\"stylesheet\"/>\n",
       "<link href=\"/dist/css/vendor.css?v=6.4.27d42\" rel=\"stylesheet\"/>\n",
       "<script src=\"/dist/en/js/manifest.js?v=6.4.27\" type=\"text/javascript\"></script>\n",
       "<script src=\"/dist/en/js/vendor.js?v=6.4.27\" type=\"text/javascript\"></script>\n",
       "<script src=\"/dist/en/js/ui.js?v=6.4.27\" type=\"text/javascript\"></script>\n",
       "<script async=\"\" src=\"https://securepubads.g.doubleclick.net/tag/js/gpt.js\"></script>\n",
       "<script src=\"/js/adsbygoogle.js?v=6.4.27g3\" type=\"text/javascript\"></script>\n",
       "<link href=\"/css/fontawesome/css/all.min.css?v=6.4.27a\" rel=\"stylesheet\"/>\n",
       "<script src=\"/js/tether.min.js\" type=\"text/javascript\"></script>\n",
       "<script src=\"/js/bootstrap.min.js\" type=\"text/javascript\"></script>\n",
       "<script src=\"/js/jquery.qtip.min.js?v=6.4.27\" type=\"text/javascript\"></script>\n",
       "<script src=\"/js/moment.min.js\" type=\"text/javascript\"></script>\n",
       "<script>\n",
       "var isMobile = false;\n",
       "var isMobilePh = false;\n",
       "var isGodzilla = false;\n",
       "var user = {logged_in: false}\n",
       "var CFIPC2 = true;\n",
       "var media_url = 'https://i.mydramalist.com/';\n",
       "var site = {host: \"mydramalist.com\",url: \"https://mydramalist.com\", media_url: 'https://i.mydramalist.com/'};\n",
       "var STATUS_SUCCESS = 200;\n",
       "var _production = true;\n",
       "</script>\n",
       "<script>\n",
       "(function(i,s,o,g,r,a,m){i['GoogleAnalyticsObject']=r;i[r]=i[r]||function(){\n",
       "(i[r].q=i[r].q||[]).push(arguments)},i[r].l=1*new Date();a=s.createElement(o),\n",
       "m=s.getElementsByTagName(o)[0];a.async=1;a.src=g;m.parentNode.insertBefore(a,m)\n",
       "})(window,document,'script','//www.google-analytics.com/analytics.js','ga');\n",
       "ga('create', 'UA-22552592-2', 'auto');\n",
       "ga('require', 'displayfeatures');\n",
       "ga('send', 'pageview'); window.mdltag = window.mdltag || {cmd: []};\n",
       "</script>\n",
       "<script id=\"sBeacon\" src=\"//ap.lijit.com/www/sovrn_beacon_standalone/sovrn_standalone_beacon.js?iid=10909913\"></script>\n",
       "<script src=\"/js/diberp.js?v=6.4.27g52\" type=\"text/javascript\"></script>\n",
       "<script src=\"/dist/en/js/ui.js?v=6.4.27\" type=\"text/javascript\"></script>\n",
       "<link href=\"/assets/img/apple-touch-icon-iphone.png\" rel=\"apple-touch-icon\"/>\n",
       "<link href=\"/assets/img/apple-touch-icon-ipad.png\" rel=\"apple-touch-icon\" sizes=\"72x72\"/>\n",
       "<link href=\"/assets/img/apple-touch-icon-iphone-retina-display.png\" rel=\"apple-touch-icon\" sizes=\"114x114\"/>\n",
       "<!--[if lt IE 9]><script src=\"//cdnjs.cloudflare.com/ajax/libs/es5-shim/2.0.8/es5-shim.min.js\"></script><![endif]-->\n",
       "<script data-cfasync=\"false\" type=\"text/javascript\">/*<![CDATA[*/\n",
       "(function (a, c, s, u){'Insticator'in a || (a.Insticator={ad:{loadAd: function (b){Insticator.ad.q.push(b)}, q: []}, helper:{}, embed:{}, version: \"4.0\", q: [], load: function (t, o){Insticator.q.push({t: t, o: o})}}); var b=c.createElement(s); b.src=u; b.async=!0; var d=c.getElementsByTagName(s)[0]; d.parentNode.insertBefore(b, d)})(window, document, 'script', '//d3lcz8vpax4lo2.cloudfront.net/ads-code/6b9d235a-6151-4bd2-8c1a-8d2a0761463b.js');\n",
       "/*]]>*/\n",
       "</script>\n",
       "<style type=\"text/css\">\n",
       ".spnsr-wrapper-2047 {\n",
       "text-align: center; min-height: 30px; margin: 0 auto; padding: 30px 0;\n",
       "}\n",
       ".spnsr-wrapper-2047 .spnsr-top-2047 { background-repeat: no-repeat; background-color: var(--mdl-spnsr-background); background-size: 90%; background-position: center; border: none; text-align: center; margin: 0 auto; min-height: 90px; max-height: 250px; min-width: 728px; padding: 0; position: relative; visibility: visible; display: inline-block;\n",
       "} .spnsr-wrapper-2047 .spnsr-top-2047.is-mobile { min-width: 320px; text-align: center; } .spnsr-wrapper-2047 .spnsr-top-2047.is-desktop { min-height: 90px !important; overflow: hidden; } .spnsr-wrapper-2047 .spnsr-top-2047.ads-off { display: none; } .app-footer .spnsr-top-2047 {\n",
       "padding-top: 25px;\n",
       "text-align: center;\n",
       "}\n",
       ".spnsr_right_2047 { width: 300px; margin: 15px auto;\n",
       "}\n",
       ".spnsr_right_2047 .spnsr,\n",
       ".spnsr_right_2047 .spnsr_2047 { width: 300px; min-height: 250px; background-size: 90%; background-position: center; background-repeat: no-repeat; background-color: var(--mdl-spnsr-background);\n",
       "}\n",
       ".footer-rec-site {\n",
       "padding-top: 26px;\n",
       "margin-top: 4px;\n",
       "position: relative;\n",
       "}\n",
       ".footer-rec-site:after {\n",
       "color: #909399; content: 'Friends'; display: block; font-size: 12px; left: 0; position: absolute; text-align: left; top: 0; width: 150px;\n",
       "}\n",
       "img:not([src]) { visibility: hidden; } /* Fixes Firefox anomaly during image load */ @-moz-document url-prefix() { img:-moz-loading { visibility: hidden; } }\n",
       "</style>\n",
       "<script async=\"\" src=\"https://securepubads.g.doubleclick.net/gpt/pubads_impl_2020111601.js?21068776\"></script></head>\n",
       "<body>\n",
       "<div class=\"app\" id=\"app\">\n",
       "<div class=\"slideout-menu slideout-menu-right\" id=\"menu\">\n",
       "<form action=\"/search\" class=\"form-inline form-search\" role=\"search\"> <div class=\"form-group\"> <div class=\"input-group\"> <input class=\"form-control\" name=\"q\" placeholder=\"Find Asian Dramas, Movies, Actors and more...\" type=\"text\"/> <span class=\"input-group-btn\"><button class=\"btn white\" type=\"submit\"><i class=\"fa fa-search\"></i></button></span></div> </div> </form>\n",
       "<ul class=\"nav\">\n",
       "<li class=\"active\">\n",
       "<a href=\"/\"><span class=\"nav-text\">Home</span></a>\n",
       "<ul class=\"nav-sub\">\n",
       "<li><a href=\"/vip\" rel=\"external nofollow\"><span class=\"nav-text text-danger\">Hide ads</span></a></li>\n",
       "<li><a href=\"/episode-calendar\"><span class=\"nav-text\">Calendar</span></a></li>\n",
       "<li><a href=\"/list\"><span class=\"nav-text\">Lists</span></a></li>\n",
       "<li><a href=\"/feeds\"><span class=\"nav-text\">Feeds</span></a></li>\n",
       "<li><a href=\"/articles\"><span class=\"nav-text\">Articles</span></a></li>\n",
       "<li><a href=\"/trailers\"><span class=\"nav-text\">Trailers</span></a></li>\n",
       "<li><a href=\"/discussions\"><span class=\"nav-text\">Forums</span></a></li>\n",
       "<li><a href=\"/contributors\"><span class=\"nav-text\">Contributors</span></a></li>\n",
       "</ul>\n",
       "</li>\n",
       "<li class=\"active\">\n",
       "<a hef=\"/\"><span class=\"nav-text\">Shows</span></a>\n",
       "<ul class=\"nav-sub\">\n",
       "<li><a href=\"/shows/top\"><span class=\"nav-text\">Top Shows</span></a></li>\n",
       "<li><a href=\"/shows/popular\"><span class=\"nav-text\">Most Popular Shows</span></a></li>\n",
       "<li><a href=\"/shows/variety\"><span class=\"nav-text\">Variety Shows</span></a></li>\n",
       "<li><a href=\"/shows/upcoming\"><span class=\"nav-text\">Upcoming</span></a></li>\n",
       "<li><a href=\"/reviews/shows\"><span class=\"nav-text\">Reviews</span></a></li>\n",
       "<li><a href=\"/recommendations/shows\"><span class=\"nav-text\">Recommendations</span></a></li>\n",
       "<li><a href=\"/recommendations\" rel=\"external nofollow\"><span class=\"nav-text\">Recommended For You</span></a></li>\n",
       "<li><a href=\"/add/title\" rel=\"external nofollow\"><span class=\"nav-text\">Add New Title</span></a></li>\n",
       "</ul>\n",
       "</li>\n",
       "<li class=\"active\">\n",
       "<a href=\"/\"><span class=\"nav-text\">Movies</span></a>\n",
       "<ul class=\"nav-sub\">\n",
       "<li><a href=\"/movies/top\"><span class=\"nav-text\">Top Movies</span></a></li>\n",
       "<li><a href=\"/movies/popular\"><span class=\"nav-text\">Most Popular Movies</span></a></li>\n",
       "<li><a href=\"/movies/upcoming\"><span class=\"nav-text\">Upcoming</span></a></li>\n",
       "<li><a href=\"/reviews/movies\"><span class=\"nav-text\">Reviews</span></a></li>\n",
       "<li><a href=\"/recommendations/movies\"><span class=\"nav-text\">Recommendations</span></a></li>\n",
       "<li><a href=\"/add/title\"><span class=\"nav-text\">Add New Title</span></a></li>\n",
       "</ul>\n",
       "</li>\n",
       "<li class=\"active\">\n",
       "<a href=\"/\"><span class=\"nav-text\">People</span></a>\n",
       "<ul class=\"nav-sub\">\n",
       "<li><a href=\"/people/top\"><span class=\"nav-text\">Top Actors</span></a></li>\n",
       "<li><a href=\"/add/person\" rel=\"external nofollow\"><span class=\"nav-text\">Add New Person</span></a></li>\n",
       "</ul>\n",
       "</li>\n",
       "</ul>\n",
       "</div>\n",
       "<div calss=\"app-content box-shadow-z0\">\n",
       "<div class=\"app-header navbar-xs black box-shadow\" style=\"width: 1019px;\">\n",
       "<div class=\"app-header-wrapper\">\n",
       "<div class=\"navbar\">\n",
       "<a class=\"btn-slide-menu navbar-item pull-right hidden-lg-up m-a-0 m-l\"><i class=\"fa fa-bars\"></i></a>\n",
       "<a class=\"navbar-brand\" href=\"/\">\n",
       "<img alt=\"MyDramaList\" class=\"hidden-folded hidden-md-down inline\" height=\"24\" src=\"/assets/logo_w.png\" width=\"158\"/>\n",
       "<span class=\"hidden-folded hidden-lg-up inline\">MDL</span><span class=\"beta4 label label-xs danger\">v6</span></a>\n",
       "<ul class=\"nav navbar-nav pull-right header-user\">\n",
       "<li class=\"nav-item dropdown\" style=\"margin-left: 0;\">\n",
       "<div class=\"nav-link\"><div id=\"mdl-lang\"><span>en</span></div></div>\n",
       "</li>\n",
       "<li class=\"nav-item dropdown nav-search hidden-lg-up\">\n",
       "<a class=\"nav-link\" data-toggle=\"dropdown\"><i class=\"far fa-search\"></i></a>\n",
       "<div class=\"dropdown-menu w-xxl animated fadeInUp p-a-0\">\n",
       "<form action=\"/search\" class=\"navbar-form form-inline\" role=\"search\">\n",
       "<div class=\"form-group l-h m-a-0\">\n",
       "<div class=\"input-group\">\n",
       "<input class=\"form-control\" name=\"q\" placeholder=\"Find Asian Dramas, Movies, Actors and more...\" type=\"text\"/>\n",
       "<span class=\"input-group-btn\"><button class=\"btn b-a no-b-l no-shadow\" type=\"submit\"><i class=\"fa fa-search\"></i></button></span></div>\n",
       "</div>\n",
       "</form>\n",
       "</div>\n",
       "</li>\n",
       "<script id=\"nav-notifications\" type=\"text/template\"></script>\n",
       "<li class=\"nav-item\"><a class=\"nav-link m-l-sm\" href=\"/signup\"><span>Sign up</span></a></li>\n",
       "<li class=\"nav-item\"><a class=\"nav-link nav-login m-l-sm\" href=\"/signin\"><span>Log in</span></a></li>\n",
       "</ul>\n",
       "<div class=\"collapse navbar-toggleable-sm\" data-pjax=\"\" id=\"top-nav\"> <form action=\"/search\" class=\"navbar-form form-inline hidden-md-down pull-right pull-none-sm navbar-item v-m\" role=\"search\">\n",
       "<div class=\"form-group l-h m-a-0\"> <div class=\"input-group input-group-sm\"> <input class=\"form-control p-x b-a rounded\" name=\"q\" placeholder=\"Find Asian Dramas, Movies, Actors and more...\" type=\"text\"/> <span class=\"input-group-btn\"><button class=\"btn b-a rounded no-b-l no-shadow\" type=\"submit\"><i class=\"fa fa-search\"></i></button></span></div>\n",
       "</div> </form> <ul class=\"nav navbar-nav pull-left nav-active-border b-blue\">\n",
       "<li class=\"nav-item dropdown\"> <a class=\"nav-link dropdown-toggle\" data-toggle=\"dropdown\" href=\"\"><span class=\"nav-text\">Home</span></a> <div class=\"dropdown-menu\">\n",
       "<a class=\"dropdown-item\" href=\"/feeds\"><span class=\"nav-text\">Feeds</span></a>\n",
       "<a class=\"dropdown-item\" href=\"/episode-calendar\"><span class=\"nav-text\">Calendar</span></a>\n",
       "<a class=\"dropdown-item\" href=\"/articles\"><span class=\"nav-text\">Articles</span></a>\n",
       "<a class=\"dropdown-item\" href=\"/trailers\"><span class=\"nav-text\">Trailers</span></a>\n",
       "<a class=\"dropdown-item\" href=\"/watch/latest_episodes\"><span class=\"nav-text text-danger\">Watch Online</span></a> </div>\n",
       "</li>\n",
       "<li class=\"nav-item dropdown\"> <a class=\"nav-link dropdown-toggle\" data-toggle=\"dropdown\" href=\"\"><span class=\"nav-text\">Explore</span></a> <div class=\"dropdown-menu\" style=\"min-width: 350px;padding:0;\">\n",
       "<div class=\"row\" style=\"display: flex;\">\n",
       "<div class=\"col-sm-6 col-lg-6 explore-tv\">\n",
       "<div class=\"dropdown-header\"><b>TV Shows</b></div>\n",
       "<a class=\"dropdown-item\" href=\"/shows/top\">Top Shows</a>\n",
       "<a class=\"dropdown-item\" href=\"/shows/popular\">Most Popular Shows</a>\n",
       "<a class=\"dropdown-item\" href=\"/shows/variety\">Variety Shows</a>\n",
       "<a class=\"dropdown-item\" href=\"/shows/newest\">Newest</a>\n",
       "<a class=\"dropdown-item\" href=\"/shows/upcoming\">Upcoming</a>\n",
       "<a class=\"dropdown-item\" href=\"/reviews/shows\">Reviews</a>\n",
       "<a class=\"dropdown-item\" href=\"/recommendations/shows\">Recommendations</a>\n",
       "<div class=\"dropdown-divider\"></div>\n",
       "<a class=\"dropdown-item\" href=\"/recommendations\" rel=\"external nofollow\">Recommended For You</a>\n",
       "<a class=\"dropdown-item\" href=\"/add/title\" rel=\"external nofollow\">Add New Title</a>\n",
       "</div>\n",
       "<div class=\"col-sm-6 col-lg-6 explore-content\">\n",
       "<div class=\"dropdown-header\"><b>Movies</b></div>\n",
       "<a class=\"dropdown-item\" href=\"/movies/top\">Top Movies</a>\n",
       "<a class=\"dropdown-item\" href=\"/movies/popular\">Most Popular Movies</a>\n",
       "<a class=\"dropdown-item\" href=\"/movies/newest\">Newest</a>\n",
       "<a class=\"dropdown-item\" href=\"/movies/upcoming\">Upcoming</a>\n",
       "<a class=\"dropdown-item\" href=\"/reviews/movies\">Reviews</a>\n",
       "<a class=\"dropdown-item\" href=\"/recommendations/movies\">Recommendations</a>\n",
       "</div>\n",
       "<div class=\"col-sm-6 col-lg-6 explore-content\">\n",
       "<div class=\"dropdown-header\"><b>People</b></div>\n",
       "<a class=\"dropdown-item\" href=\"/people/top\">Top Actors</a>\n",
       "<a class=\"dropdown-item\" href=\"/add/person\" rel=\"external nofollow\">Add New Person</a>\n",
       "</div>\n",
       "<div class=\"col-sm-6 col-lg-6\">\n",
       "<div class=\"p-y p-r\" style=\"width: 340px;\">\n",
       "<a href=\"https://www.youtube.com/watch?v=DA2QOIonwD0\" rel=\"nofollow external\" target=\"_blank\"> <div style=\"position: relative;\"> <img class=\"img-responsive\" src=\"https://img.youtube.com/vi/DA2QOIonwD0/sddefault.jpg\"/> <span style=\"position: absolute;left: 0;right: 0;text-align: center;top: 36%;\"><i class=\"fa fa-play\" style=\"font-size: 24px;color: #fff;background-color: #f44455;border-radius: 100%;width: 50px;height: 50px;text-align: right;padding: 13px;\"></i></span> </div> <b class=\"text-primary block m-t-sm\"><span class=\"tag tag-primary\">Video</span> TOP 7 Hottest Korean Dramas To Watch in November 2020</b> <div class=\"text-muted\">Featured</div> </a>\n",
       "</div>\n",
       "</div>\n",
       "</div> </div>\n",
       "</li>\n",
       "<li class=\"nav-item dropdown\"> <a class=\"nav-link dropdown-toggle\" data-toggle=\"dropdown\" href=\"/discussions\"><span class=\"nav-text\">Community</span></a> <div class=\"dropdown-menu\"> <a class=\"dropdown-item\" href=\"/feeds\">Feeds</a>\n",
       "<a class=\"dropdown-item\" href=\"/list\">Lists</a> <a class=\"dropdown-item\" href=\"/discussions\">Forums</a>\n",
       "<a class=\"dropdown-item\" href=\"/contributors\">Contributors</a> </div>\n",
       "</li>\n",
       "<li class=\"nav-item dropdown\"> <a class=\"nav-link\" href=\"/episode-calendar\"><span class=\"nav-text\">Calendar</span><span class=\"label label-xs m-l-xs danger\" style=\"vertical-align: text-bottom;\">NEW</span></a>\n",
       "</li>\n",
       "</ul>\n",
       "</div>\n",
       "</div>\n",
       "</div>\n",
       "</div>\n",
       "<div class=\"slideout-panel slideout-panel-right\" id=\"content\">\n",
       "<div class=\"app-body\">\n",
       "<div class=\"spnsr-wrapper-2047\">\n",
       "<div class=\"spnsr-top-2047 is-desktop\">\n",
       "<div class=\"mdl-gpt-tag\" id=\"mdl-gpt-header-0\">\n",
       "<script>\n",
       "mdltag.cmd.push(function() {\n",
       "mdltag.defineSlot('/47261215/header_top', [[970, 90], [728, 90], [970, 250]], 'mdl-gpt-header-0');\n",
       "})\n",
       "</script>\n",
       "</div>\n",
       "</div>\n",
       "</div>\n",
       "<script src=\"/dist/en/js/reviews.js?v=6.4.27a\" type=\"text/javascript\"></script>\n",
       "<div class=\"container-fluid\">\n",
       "<div class=\"row\"> <div class=\"col-lg-8 col-md-8\"> <div class=\"box\"> <div class=\"box-header box-navbar\">\n",
       "<h1>Reviews</h1> <ul class=\"nav nav-tabs\"> <li class=\"page-item nav-item\"><a class=\"nav-link\" href=\"/reviews/recent\">Most Recent</a></li> <li class=\"page-item nav-item\"><a class=\"nav-link\" href=\"/reviews/best\">Most Helpful</a></li> <li class=\"page-item nav-item active\"><a class=\"nav-link\" href=\"/reviews/shows\">Show Reviews</a></li> <li class=\"page-item nav-item\"><a class=\"nav-link\" href=\"/reviews/movies\">Movie Reviews</a></li> <li class=\"page-item nav-item\"><a class=\"nav-link\" href=\"/reviews/episodes\">Episode Reviews</a></li> </ul>\n",
       "</div>\n",
       "<div class=\"box-header\"> <div class=\"clear\" id=\"reviews-filter\"><!-- --> <div class=\"el-dropdown\"><button aria-controls=\"dropdown-menu-6376\" aria-haspopup=\"list\" class=\"el-button el-button--default el-dropdown-selfdefine\" role=\"button\" tabindex=\"0\" type=\"button\"><!-- --><!-- --><span>\n",
       "\t    Most Recent<i class=\"far fa-angle-down m-l-sm\"></i></span></button> <ul class=\"el-dropdown-menu el-popper\" id=\"dropdown-menu-6376\" style=\"display: none;\"><li class=\"el-dropdown-menu__item\" tabindex=\"-1\"><!-- -->Most Helpful</li><li class=\"el-dropdown-menu__item\" tabindex=\"-1\"><!-- -->Most Recent</li></ul></div> <span><div aria-hidden=\"true\" class=\"el-popover el-popper reviews-filter-popover\" id=\"el-popover-1120\" role=\"tooltip\" style=\"width: 380px; display: none;\" tabindex=\"0\"><!-- --><div class=\"row no-gutter el-loading-parent--relative\"><div class=\"col-sm-6\"><div class=\"filter-head\"><b>Languages</b></div> <div class=\"filter-item\" command=\"all\"><label aria-checked=\"true\" class=\"el-radio is-checked\" role=\"radio\" tabindex=\"0\"><span class=\"el-radio__input is-checked\"><span class=\"el-radio__inner\"></span><input aria-hidden=\"true\" class=\"el-radio__original\" tabindex=\"-1\" type=\"radio\" value=\"all\"/></span><span class=\"el-radio__label\">All Languages <!-- --><!-- --></span></label></div></div> <div class=\"col-sm-6\"><div class=\"filter-head\"><b>Filter by Status</b></div> <div class=\"filter-item\" command=\"all\"><label aria-checked=\"true\" class=\"el-radio is-checked\" role=\"radio\" tabindex=\"0\"><span class=\"el-radio__input is-checked\"><span class=\"el-radio__inner\"></span><input aria-hidden=\"true\" class=\"el-radio__original\" tabindex=\"-1\" type=\"radio\" value=\"all\"/></span><span class=\"el-radio__label\">All Status <!-- --><!-- --></span></label></div><!-- --><!-- --><!-- --> <div class=\"filter-item\"><label class=\"el-checkbox\"><span class=\"el-checkbox__input\"><span class=\"el-checkbox__inner\"></span><input aria-hidden=\"false\" class=\"el-checkbox__original\" false-value=\"\" true-value=\"0\" type=\"checkbox\"/></span><span class=\"el-checkbox__label\">Hide Spoiler<!-- --></span></label></div></div><div class=\"el-loading-mask\" style=\"\"><div class=\"el-loading-spinner\"><svg class=\"circular\" viewbox=\"25 25 50 50\"><circle class=\"path\" cx=\"50\" cy=\"50\" fill=\"none\" r=\"20\"></circle></svg><!-- --></div></div></div> </div><div aria-describedby=\"el-popover-1120\" class=\"el-popover__reference\" style=\"display: inline-block;\" tabindex=\"0\"><span class=\"m-l filter-dropdown-link\"><!-- --> <b>All Languages <!-- --><i class=\"far fa-angle-down m-l-sm\"></i></b></span></div></span></div> </div> <div class=\"review\" data-stats=\"reviews:103767\" id=\"review-103767\"> <div class=\"box-body light b-t b-b p-t-sm p-b-sm\"> <div class=\"row\"> <div class=\"col-sm-9\"> <div class=\"pull-left m-r\"> <span><img src=\"https://i.mydramalist.com/nv0kQt.jpg\" width=\"84\"/></span> </div> <div> <div class=\"pull-right hidden-sm-up\"> <span class=\"review-tag completed\">Completed</span> </div> <b><a class=\"text-primary\" href=\"/22472-fight-for-my-way\">Fight For My Way</a></b> <div class=\"user-stats review_stats_103767\"><small><b>0</b> people found this review helpful</small> <i class=\"review-voted-check review-voted-check-103767\"></i></div> <div class=\"author\"><small>by <a class=\"text-primary\" href=\"/profile/hotfudgesundae_27\">hotfudgesundae</a></small></div> <div class=\"more-reviews\"><small><a class=\"text-primary\" href=\"/profile/hotfudgesundae_27/reviews\">Other reviews by this user</a></small></div> </div> </div> <div class=\"col-sm-3 text-sm text-right\"> <div class=\"meta\"> <small class=\"datetime\">11 minutes ago</small> <div class=\"episodes-seen text-muted\"> <b>16</b> of <b>16</b> episodes seen </div> </div> <div class=\"actions\"> <span class=\"review-tag completed\">Completed</span> <small><a href=\"/profile/hotfudgesundae_27/review/103767\"><i class=\"fal fa-comments-alt\"></i> 0</a></small> <div class=\"mdl-dropdown\"> <a class=\"nav-link btn-menu\" data-id=\"103767\" data-type=\"review\"><span><i class=\"far fa-chevron-down\"></i></span></a> </div> </div> </div> </div> </div> <div class=\"box-body\"> <div class=\"row\"> <div class=\"col-sm-12 review-body\"> <div class=\"box pull-right text-sm m-a-sm\"> <div class=\"box-header p-t-sm p-b-sm rating-overall\"> <b>Overall <span class=\"score pull-right\">8.0</span></b> </div> <div class=\"box-body p-t-sm p-b-sm\"> <div class=\"list-group review-rating\"> <div>Story <span class=\"p-l-md pull-right\">8.0</span></div> <div>Acting/Cast <span class=\"p-l-md pull-right\">8.0</span></div> <div>Music <span class=\"p-l-md pull-right\">8.0</span></div> <div>Rewatch Value <span class=\"p-l-md pull-right\">8.0</span></div> </div> </div> </div> <div class=\"review-spoiler\">This review may contain spoilers</div> <p><strong>coupleʼs chemistry</strong></p>  i honestly cannot think of a better words to describe my feelings towards this show. as someone who has been facing difficulties these past few months, watching this helped me get through some of it. man, this was a delight! it's a well-balanced between romance, drama, and comedy--something i've been craving for lately. the relationship between dong-man and ae-ra is very believable; even the second lead couple is worth spending time watching. in fact, i even teared up a little bit when seol-hee decided to end her relationship with joo-man because i've been rooting for them since the very beginning! the dialogue is hilarious in my opinion. there's no dull moment because each episodes will make you laugh! and of course, their acting is so well done--so much that you could see their dedication to their roles in the story. everything is full of life in here. how i wish it has more episodes in it (an amount of 20 or so) because 16 episodes felt too short for me and left me wanting more.  needless to say, it's so so good! it's probably my favorite so far. can't wait to see more of park seo-joon and kim ji-won's tandem in the future!   <p class=\"read-more\"><a class=\"button\" href=\"#\">Read More</a></p> <div class=\"review-helpful m-t p-t xb-t\"> <div class=\"review-vote review-helpful-103767\"><span class=\"text-muted\">Was this review helpful to you?</span> <button class=\"btn btn-xs white helpful review-cast-helpful\" data-id=\"103767\" data-label=\"Yes\"><span>Yes</span></button> <button class=\"btn btn-xs white unhelpful review-cast-helpful\" data-id=\"103767\" data-label=\"No\"><span>No</span></button> <button class=\"btn btn-xs white review-cancel-vote\" data-id=\"103767\"><span>Cancel</span></button></div> </div> </div> </div> </div>\n",
       "</div>\n",
       "<div class=\"review\" data-stats=\"reviews:103763\" id=\"review-103763\"> <div class=\"box-body light b-t b-b p-t-sm p-b-sm\"> <div class=\"row\"> <div class=\"col-sm-9\"> <div class=\"pull-left m-r\"> <span><img src=\"https://i.mydramalist.com/4N7kw_4t.jpg\" width=\"84\"/></span> </div> <div> <div class=\"pull-right hidden-sm-up\"> <span class=\"review-tag completed\">Completed</span> </div> <b><a class=\"text-primary\" href=\"/39579-dear-mayang-street\">Dear Mayang Street</a></b> <div class=\"user-stats review_stats_103763\"><small><b>5</b> people found this review helpful</small> <i class=\"review-voted-check review-voted-check-103763\"></i></div> <div class=\"author\"><small>by <a class=\"text-primary\" href=\"/profile/legendofzhen\">ChineseDramaFan</a></small></div> <div class=\"more-reviews\"><small><a class=\"text-primary\" href=\"/profile/legendofzhen/reviews\">Other reviews by this user</a></small></div> </div> </div> <div class=\"col-sm-3 text-sm text-right\"> <div class=\"meta\"> <small class=\"datetime\">2 hours ago</small> <div class=\"episodes-seen text-muted\"> <b>37</b> of <b>37</b> episodes seen </div> </div> <div class=\"actions\"> <span class=\"review-tag completed\">Completed</span> <small><a href=\"/profile/legendofzhen/review/103763\"><i class=\"fal fa-comments-alt\"></i> 1</a></small> <div class=\"mdl-dropdown\"> <a class=\"nav-link btn-menu\" data-id=\"103763\" data-type=\"review\"><span><i class=\"far fa-chevron-down\"></i></span></a> </div> </div> </div> </div> </div> <div class=\"box-body\"> <div class=\"row\"> <div class=\"col-sm-12 review-body\"> <div class=\"box pull-right text-sm m-a-sm\"> <div class=\"box-header p-t-sm p-b-sm rating-overall\"> <b>Overall <span class=\"score pull-right\">9.5</span></b> </div> <div class=\"box-body p-t-sm p-b-sm\"> <div class=\"list-group review-rating\"> <div>Story <span class=\"p-l-md pull-right\">9.5</span></div> <div>Acting/Cast <span class=\"p-l-md pull-right\">9.5</span></div> <div>Music <span class=\"p-l-md pull-right\">10</span></div> <div>Rewatch Value <span class=\"p-l-md pull-right\">9.5</span></div> </div> </div> </div> <p><strong>Amazing story! Inspiring Characters! Incredible Acting!</strong></p>  This is a story with a setting in a closely knitted community in South China in the 80s at the onset of the country reopening its door to the outside world. The drama depicts vividly the life experienced by common folks where street gangsters roamed and interwove into the fabric of the society. Life was tough as the country rebuilt its economy, healed from the devastation of the revolution, and stepped onto the world stage.<br/><br/>The Story<br/>The story is narrated from the POV of Yi Dongdong (Niu Junfeng), one of the main characters in the story. He recounts how he has come to meet Ma Xiaoxiao (Tan Songyun aka Seven Tan) and Ou Xiaojian (Xu Weizhou aka Timmy Xu) and how the two have inspired him. Though secretly in love with Ma Xiaoxiao and his love is never being reciprocated, Yi Dongdong is happy with this status quo for years from high school till adulthood.<br/><br/>Ou Xiaojian and Ma Xiaoxiao have grown up together on Mayang Street, a very tightly woven community where everyone knows and helps each other in times of trouble. Both Ou Xiaojian and Ma Xiaoxiao are soulmates and later become lovers to each other. They are role models in their neighborhood and in school with highest ranking in their academic studies. Tragedies strike repeatedly in Ou Xiaojian’s life and he grows up fast. While all the kids around him still in school, wondering what life is all about, he drops out of school, enters the police academy and thrust into a world that even most adults cannot handle. Unbeknownst to all, he becomes a mole for the police. To gather information, he hangs out with gang members, rendering everyone thinking he has turned rogue. Daily he’s involved in gang fights and getting hurt bloodily. His mission is to collect evidence to flash out the kingpin of the organization that has a seemingly clean façade, but deeply involved in money laundering, black market, smuggling, human trafficking, frauds, cheating schemes, street gangsters, and it has a giant network that spans to multiple cities and countries.<br/><br/>It is both happy and sad how the story ends. It makes me cry and my heart aches for my hero. I know deep down inside somewhere, Ma Xiaoxiao still remembers Ou Xianjian dearly and cries for him.<br/><br/>The Characters and The Acting<br/>The Ou Xiaojian character is a very difficult role to portray as he is multi-dimensional. On one hand, he’s a normal kid just like everyone on the same street. He goes through the same growing pains like others. But on the other hand, he has to act tough and fearless to protect those he loves. When he becomes a mole for the police., he has to act like a bad kid to blend in with the gangsters, talking rough and mean. Son of a dead police officer, he has a heavy burden on his shoulder that he cannot let anyone see. Misunderstandings are left unexplained because he can’t; he’s always in a predicament because he doesn’t want to purposely hurt the people he cares for. He is altruistic and magnanimous, and takes care of the kids in the neighborhood and helps them grow like a big brother, he's their guardian and everyone looks up to him. He's inspiring and very filial pious. And yet, life is cruel to him. Like his grandmother, I’m constantly fearful for Ou Xiaojian, fearing for him getting hurt again or even getting killed. Though I smile every time he comes on screen, as he gives viewers the security that Ou Xiaojian would take care of everything and everything would be fine, I’m fearful for him. The writer has successfully captured our sympathy for the character and brought out the motherly instinct of the viewers.<br/><br/>Actor Xu Weizhou has a baby face that plays well as the character of a 17-18 year old teenager as Ou Xiaojian. His ‘bad-boy’ aura makes him a very convincing gangster, albeit the best good looking one, with a perfect physique even among the many Chinese actors. At 185 cm height, his long legs and strong chest make his every action move extremely good to watch; he’s really an eye candy for many viewers. Either riding his motorbike, running, kicking in fights, wearing his black biker outfits, he exudes a charisma no others can match. By the end of the drama, Ou Xiaojian has become my hero and Xu Weizhou gets enlisted on my favorite actor list.<br/><br/>Ma Xiaoxiao lives just across from Ou Xiaojian’s shop/home. They love and care for each other, watching out for each other’s back constantly. Ma Xiaoxiao is mature and commanding. A role model for her street and school, she is their big sister. She pulls the kids up when they lag behind in their studies. She’s their voice in school. Her friends love her and would fight tooth and nail to help her. Just like Ou Xiaojian who sacrifices for others, she sacrifices herself to make dream come true for her sister. <br/><br/>Tan Songyun has done it again, this time as Ma Xiaoxiao, an 18 year-old high school girl. At her actual age of 30, she continues to amaze me for transforming herself into a teenager playing the roles so effortlessly and convincingly. <br/><br/>I really enjoy watching the moments when Ma Xiaoxiao and Ou Xiaojian are together, not doing much, just holding hands, heads leaning on each other or gazing into each other wordlessly. Those moments really create ripples in my heart.<br/><br/>There are numerous veterans here, and multiple young actors, all giving their tip top performances, bringing alive the characters, making us empathize and love them.<br/><br/>The Official Sound Tracks<br/>There are numerous wonderful sound tracks produced by this drama, in particular the OST We Suddenly Grow Up, reminiscing the gone childhood from the voice of a youth, and the OST Remembering You accompanied by a harmonica with melancholy, conjuring memories of lost love.<br/><br/>My Verdict<br/>This drama is one of those that once you start watching you cannot stop because the characters just pull you in.<br/><br/>This is a story with a lot of complexity. Its characters are multi-layered. Its attention to details is commendable. Many norms of the era are captured and depicted vividly here, such as how precious soda was for a child, how a big deal a pair of blue jeans was, televisions and phones were considered as luxuries. Private facilities were rare and common bathrooms for the whole community were the norm. Or the cooking of spicy or fermented foods that sticks the whole street. People living together like a big family, crying and laughing together. The family dynamics and interpersonal relationships are being written so well that, these are all the small details that make this drama so relatable and endearing. It does make me ponder what does it mean by “a meaningful life”. Would one be happier living in a community like they do on Mayang Street, or like we do individually away from loved ones? No doubt there is a lot of conflicts living in a community like that – parents and neighbors fighting all the time, and secrets become public knowledge in no time. <br/><br/>This drama brings out the resignation and humor of life. At the beginning of each episode, the writer provides a lesson learned in the ensuing scenes with a fine statement for the viewers to ponder, successfully capturing the experiences all of us may have encountered in life.<br/><br/>A wonderful story that makes you keep thinking about the characters. TWO THUMBS UP!<br/> <p class=\"read-more\"><a class=\"button\" href=\"#\">Read More</a></p> <div class=\"review-helpful m-t p-t xb-t\"> <div class=\"review-vote review-helpful-103763\"><span class=\"text-muted\">Was this review helpful to you?</span> <button class=\"btn btn-xs white helpful review-cast-helpful\" data-id=\"103763\" data-label=\"Yes\"><span>Yes</span></button> <button class=\"btn btn-xs white unhelpful review-cast-helpful\" data-id=\"103763\" data-label=\"No\"><span>No</span></button> <button class=\"btn btn-xs white review-cancel-vote\" data-id=\"103763\"><span>Cancel</span></button></div> </div> </div> </div> </div>\n",
       "</div>\n",
       "<div class=\"review\" data-stats=\"reviews:103761\" id=\"review-103761\"> <div class=\"box-body light b-t b-b p-t-sm p-b-sm\"> <div class=\"row\"> <div class=\"col-sm-9\"> <div class=\"pull-left m-r\"> <span><img src=\"https://i.mydramalist.com/dRPqdt.jpg\" width=\"84\"/></span> </div> <div> <div class=\"pull-right hidden-sm-up\"> <span class=\"review-tag completed\">Completed</span> </div> <b><a class=\"text-primary\" href=\"/21308-mother\">Mother</a></b> <div class=\"user-stats review_stats_103761\"><small><b>2</b> people found this review helpful</small> <i class=\"review-voted-check review-voted-check-103761\"></i></div> <div class=\"author\"><small>by <a class=\"text-primary\" href=\"/profile/rexcelsior\">Nanu</a></small></div> <div class=\"more-reviews\"><small><a class=\"text-primary\" href=\"/profile/rexcelsior/reviews\">Other reviews by this user</a></small></div> </div> </div> <div class=\"col-sm-3 text-sm text-right\"> <div class=\"meta\"> <small class=\"datetime\">2 hours ago</small> <div class=\"episodes-seen text-muted\"> <b>16</b> of <b>16</b> episodes seen </div> </div> <div class=\"actions\"> <span class=\"review-tag completed\">Completed</span> <small><a href=\"/profile/rexcelsior/review/103761\"><i class=\"fal fa-comments-alt\"></i> 0</a></small> <div class=\"mdl-dropdown\"> <a class=\"nav-link btn-menu\" data-id=\"103761\" data-type=\"review\"><span><i class=\"far fa-chevron-down\"></i></span></a> </div> </div> </div> </div> </div> <div class=\"box-body\"> <div class=\"row\"> <div class=\"col-sm-12 review-body\"> <div class=\"box pull-right text-sm m-a-sm\"> <div class=\"box-header p-t-sm p-b-sm rating-overall\"> <b>Overall <span class=\"score pull-right\">9.0</span></b> </div> <div class=\"box-body p-t-sm p-b-sm\"> <div class=\"list-group review-rating\"> <div>Story <span class=\"p-l-md pull-right\">9.0</span></div> <div>Acting/Cast <span class=\"p-l-md pull-right\">10</span></div> <div>Music <span class=\"p-l-md pull-right\">7.0</span></div> <div>Rewatch Value <span class=\"p-l-md pull-right\">8.0</span></div> </div> </div> </div> <p><strong>As alluring as its emotional</strong></p>  A young girl named Hye-na is being abused by her mother but, she hides it from everyone else. Soo-JIn, her substitute homeroom teacher notices this but is hesitant to get involved. However, witnessing a harrowing event, Soo-jin decides to risk it all and vanishes along with Hye-na.<br/><br/>'Mother' is a story about the essence of motherhood. A bond between a mother and her child, regarded as the 'strongest bond in the universe' by the series, is put through excruciating tests throughout the story. Each mother in the story is forced to make not-so-easy choices between her wellbeing and the interests of her children. The responsibility one bears with these choices and their after-effects are used to masterfully deconstruct the core of being a mother.<br/><br/>Jung Seo-Kyung, who previously wrote awe-inspiring movie screenplays like The Handmaiden and Sympathy for Lady Vengeance among many others, excellently adapted the original Japanese series of the same name into one of the most emotionally absorbing screenplays ever. Every major character fervently sticks to their motives, be them good or bad, frequently assert their agency, and most importantly, make selfish mistakes which makes them more and more grounded in reality. My only gripe would be the occasional explicit approach to storytelling, where subtlety would do a much better job.<br/><br/>Heo-yool, the kid playing Hye-na deserves all the praise in the world for her nuanced performance as an abused but optimistic child. The amount of insight she gives into a child's feelings coupled with one of the most perceptively written child characters quickly ingest every viewer into the story. Lee Bo-young, playing Soo-jin also manages to give a stellar performance, co-melding an unforgettable mother-daughter relationship on screen.<br/><br/>I believe the need to sustain a high production value forces Mother to expand the original eleven episode narrative to sixteen episodes which exerted a slight strain on the pacing during the middle region of the series. That too is only perceptible to a critical eye and is easily better than usual storytelling. This, mostly imperceptible bump along the road, doesn't diminish Mother's value but, deters it from being immune to critique.<br/><br/>Alluring both the mind and the heart, Mother makes up for a definitive dissection of maternal love and sacrifice while gracefully tugging at your heartstrings.  <p class=\"read-more\"><a class=\"button\" href=\"#\">Read More</a></p> <div class=\"review-helpful m-t p-t xb-t\"> <div class=\"review-vote review-helpful-103761\"><span class=\"text-muted\">Was this review helpful to you?</span> <button class=\"btn btn-xs white helpful review-cast-helpful\" data-id=\"103761\" data-label=\"Yes\"><span>Yes</span></button> <button class=\"btn btn-xs white unhelpful review-cast-helpful\" data-id=\"103761\" data-label=\"No\"><span>No</span></button> <button class=\"btn btn-xs white review-cancel-vote\" data-id=\"103761\"><span>Cancel</span></button></div> </div> </div> </div> </div>\n",
       "</div>\n",
       "<div class=\"review\" data-stats=\"reviews:103759\" id=\"review-103759\"> <div class=\"box-body light b-t b-b p-t-sm p-b-sm\"> <div class=\"row\"> <div class=\"col-sm-9\"> <div class=\"pull-left m-r\"> <span><img src=\"https://i.mydramalist.com/dQdEW_4t.jpg\" width=\"84\"/></span> </div> <div> <div class=\"pull-right hidden-sm-up\"> <span class=\"review-tag ongoing\">Ongoing</span> <span>4/5</span> </div> <b><a class=\"text-primary\" href=\"/55651-bkpp\">I Told Sunset About You</a></b> <div class=\"user-stats review_stats_103759\"><small><b>0</b> people found this review helpful</small> <i class=\"review-voted-check review-voted-check-103759\"></i></div> <div class=\"author\"><small>by <a class=\"text-primary\" href=\"/profile/Mantoi\">Mantoi</a></small></div> <div class=\"more-reviews\"><small><a class=\"text-primary\" href=\"/profile/Mantoi/reviews\">Other reviews by this user</a></small></div> </div> </div> <div class=\"col-sm-3 text-sm text-right\"> <div class=\"meta\"> <small class=\"datetime\">3 hours ago</small> <div class=\"episodes-seen text-muted\"> <b>4</b> of <b>5</b> episodes seen </div> </div> <div class=\"actions\"> <span class=\"review-tag ongoing\">Ongoing</span> <small><a href=\"/profile/Mantoi/review/103759\"><i class=\"fal fa-comments-alt\"></i> 0</a></small> <div class=\"mdl-dropdown\"> <a class=\"nav-link btn-menu\" data-id=\"103759\" data-type=\"review\"><span><i class=\"far fa-chevron-down\"></i></span></a> </div> </div> </div> </div> </div> <div class=\"box-body\"> <div class=\"row\"> <div class=\"col-sm-12 review-body\"> <div class=\"box pull-right text-sm m-a-sm\"> <div class=\"box-header p-t-sm p-b-sm rating-overall\"> <b>Overall <span class=\"score pull-right\">10</span></b> </div> <div class=\"box-body p-t-sm p-b-sm\"> <div class=\"list-group review-rating\"> <div>Story <span class=\"p-l-md pull-right\">9.5</span></div> <div>Acting/Cast <span class=\"p-l-md pull-right\">9.5</span></div> <div>Music <span class=\"p-l-md pull-right\">9.5</span></div> <div>Rewatch Value <span class=\"p-l-md pull-right\">10</span></div> </div> </div> </div> <p><strong>Mindblown</strong></p>  What on earth did i watch? I mean i ve seen earlier thai bl series they were jus candy floss (sorry maxtul , kristosingto) . This is so mature in every way. The emotions are so raw n real.  The person i liked the most in this series is Tarn , what an amazing actor. They way she expresses herself is an absolute delight to watch. I dunno whether the ending is going to break my heart or make me happy but i sure am happy that i got to see this amazing series. Both the leads are amazing though Bilkin has this beautiful ability to put across his emotions in such easy way , even for a non thai like me would be able to follow him with out any subtitles. He does use his dimples straight for the kill....   <p class=\"read-more\"><a class=\"button\" href=\"#\">Read More</a></p> <div class=\"review-helpful m-t p-t xb-t\"> <div class=\"review-vote review-helpful-103759\"><span class=\"text-muted\">Was this review helpful to you?</span> <button class=\"btn btn-xs white helpful review-cast-helpful\" data-id=\"103759\" data-label=\"Yes\"><span>Yes</span></button> <button class=\"btn btn-xs white unhelpful review-cast-helpful\" data-id=\"103759\" data-label=\"No\"><span>No</span></button> <button class=\"btn btn-xs white review-cancel-vote\" data-id=\"103759\"><span>Cancel</span></button></div> </div> </div> </div> </div>\n",
       "</div>\n",
       "<div class=\"review\" data-stats=\"reviews:103757\" id=\"review-103757\"> <div class=\"box-body light b-t b-b p-t-sm p-b-sm\"> <div class=\"row\"> <div class=\"col-sm-9\"> <div class=\"pull-left m-r\"> <span><img src=\"https://i.mydramalist.com/44ojKt.jpg\" width=\"84\"/></span> </div> <div> <div class=\"pull-right hidden-sm-up\"> <span class=\"review-tag completed\">Completed</span> </div> <b><a class=\"text-primary\" href=\"/28721-roy-arkart\">Roy Arkart</a></b> <div class=\"user-stats review_stats_103757\"><small><b>0</b> people found this review helpful</small> <i class=\"review-voted-check review-voted-check-103757\"></i></div> <div class=\"author\"><small>by <a class=\"text-primary\" href=\"/profile/8511207\">andriaa</a></small></div> <div class=\"more-reviews\"><small><a class=\"text-primary\" href=\"/profile/8511207/reviews\">Other reviews by this user</a></small></div> </div> </div> <div class=\"col-sm-3 text-sm text-right\"> <div class=\"meta\"> <small class=\"datetime\">3 hours ago</small> <div class=\"episodes-seen text-muted\"> <b>14</b> of <b>14</b> episodes seen </div> </div> <div class=\"actions\"> <span class=\"review-tag completed\">Completed</span> <small><a href=\"/profile/8511207/review/103757\"><i class=\"fal fa-comments-alt\"></i> 0</a></small> <div class=\"mdl-dropdown\"> <a class=\"nav-link btn-menu\" data-id=\"103757\" data-type=\"review\"><span><i class=\"far fa-chevron-down\"></i></span></a> </div> </div> </div> </div> </div> <div class=\"box-body\"> <div class=\"row\"> <div class=\"col-sm-12 review-body\"> <div class=\"box pull-right text-sm m-a-sm\"> <div class=\"box-header p-t-sm p-b-sm rating-overall\"> <b>Overall <span class=\"score pull-right\">8.0</span></b> </div> <div class=\"box-body p-t-sm p-b-sm\"> <div class=\"list-group review-rating\"> <div>Story <span class=\"p-l-md pull-right\">9.0</span></div> <div>Acting/Cast <span class=\"p-l-md pull-right\">8.0</span></div> <div>Music <span class=\"p-l-md pull-right\">6.0</span></div> <div>Rewatch Value <span class=\"p-l-md pull-right\">6.0</span></div> </div> </div> </div> <div class=\"review-spoiler\">This review may contain spoilers</div> <p><strong>Nice Investigation-Action Drama</strong></p>  1st of all, i must tell you that it's DEFINITELY NOT a lovey-dovey drama. But if you wanna try investigation, murder, action lakorn, i'll recommend this. As an amateur in this kinda genre, i enjoyed this so much, i got hooked with the story. In other action lakorns, the ML usually is a strong man, a hero, able to resolve any problems, respected by many people, etc. But in this lakorn, he becomes the accused one instead. I was curious of how he prove his innocence, or... it's indeed true that he's involved in those cases? That's why i didn't wanna skip any scenes to understand the whole story.<br/><br/>For the romance, it's weird that the 2nd couple is more romantic &amp; attractive than the main leads, lol. There are kissing scenes for 2nd couple, but only hugging &amp; holding hands for the main leads, they're calm. But it's not a problem for me, actually.  <p class=\"read-more\"><a class=\"button\" href=\"#\">Read More</a></p> <div class=\"review-helpful m-t p-t xb-t\"> <div class=\"review-vote review-helpful-103757\"><span class=\"text-muted\">Was this review helpful to you?</span> <button class=\"btn btn-xs white helpful review-cast-helpful\" data-id=\"103757\" data-label=\"Yes\"><span>Yes</span></button> <button class=\"btn btn-xs white unhelpful review-cast-helpful\" data-id=\"103757\" data-label=\"No\"><span>No</span></button> <button class=\"btn btn-xs white review-cancel-vote\" data-id=\"103757\"><span>Cancel</span></button></div> </div> </div> </div> </div>\n",
       "</div>\n",
       "<div class=\"review\" data-stats=\"reviews:103755\" id=\"review-103755\"> <div class=\"box-body light b-t b-b p-t-sm p-b-sm\"> <div class=\"row\"> <div class=\"col-sm-9\"> <div class=\"pull-left m-r\"> <span><img src=\"https://i.mydramalist.com/wgZX8_4t.jpg\" width=\"84\"/></span> </div> <div> <div class=\"pull-right hidden-sm-up\"> <span class=\"review-tag ongoing\">Ongoing</span> <span>15/24</span> </div> <b><a class=\"text-primary\" href=\"/53985-poisoned-love\">Poisoned Love</a></b> <div class=\"user-stats review_stats_103755\"><small><b>0</b> people found this review helpful</small> <i class=\"review-voted-check review-voted-check-103755\"></i></div> <div class=\"author\"><small>by <a class=\"text-primary\" href=\"/profile/Jasti\">Jasti</a></small></div> <div class=\"more-reviews\"><small><a class=\"text-primary\" href=\"/profile/Jasti/reviews\">Other reviews by this user</a></small></div> </div> </div> <div class=\"col-sm-3 text-sm text-right\"> <div class=\"meta\"> <small class=\"datetime\">4 hours ago</small> <div class=\"episodes-seen text-muted\"> <b>15</b> of <b>24</b> episodes seen </div> </div> <div class=\"actions\"> <span class=\"review-tag ongoing\">Ongoing</span> <small><a href=\"/profile/Jasti/review/103755\"><i class=\"fal fa-comments-alt\"></i> 0</a></small> <div class=\"mdl-dropdown\"> <a class=\"nav-link btn-menu\" data-id=\"103755\" data-type=\"review\"><span><i class=\"far fa-chevron-down\"></i></span></a> </div> </div> </div> </div> </div> <div class=\"box-body\"> <div class=\"row\"> <div class=\"col-sm-12 review-body\"> <div class=\"box pull-right text-sm m-a-sm\"> <div class=\"box-header p-t-sm p-b-sm rating-overall\"> <b>Overall <span class=\"score pull-right\">9.5</span></b> </div> <div class=\"box-body p-t-sm p-b-sm\"> <div class=\"list-group review-rating\"> <div>Story <span class=\"p-l-md pull-right\">9.5</span></div> <div>Acting/Cast <span class=\"p-l-md pull-right\">9.5</span></div> <div>Music <span class=\"p-l-md pull-right\">9.5</span></div> <div>Rewatch Value <span class=\"p-l-md pull-right\">9.5</span></div> </div> </div> </div> <div class=\"review-spoiler\">This review may contain spoilers</div> <p><strong>mushy love</strong></p>  Couple is so cute more roles with them together would be great. Maybe I watch to many dramas lol but I am certain that the little girl he was with when he was taken was her. Waiting to see if I am correct though. <br/><br/>Gotta say found one mistake or maybe winter solance is different in China and its actually Spring time here  when they have theirs but I swear looks like Spring in the drama maybe I am crazy . <br/><br/>The music is just great it all sounds like it was made to relax you and make you fall more and more in love with this drama the crew that made this drama did a great job in picking the music for it. <br/><br/>Kinda hate her bestie girlfriend though saying she ain't got no right to fall in love everyone has the right to fall in love. True love is understanding and accepting each others weaknesses rather it be the need to have someone other than yourself give your lover comfort in times of need or whatever.    <p class=\"read-more\"><a class=\"button\" href=\"#\">Read More</a></p> <div class=\"review-helpful m-t p-t xb-t\"> <div class=\"review-vote review-helpful-103755\"><span class=\"text-muted\">Was this review helpful to you?</span> <button class=\"btn btn-xs white helpful review-cast-helpful\" data-id=\"103755\" data-label=\"Yes\"><span>Yes</span></button> <button class=\"btn btn-xs white unhelpful review-cast-helpful\" data-id=\"103755\" data-label=\"No\"><span>No</span></button> <button class=\"btn btn-xs white review-cancel-vote\" data-id=\"103755\"><span>Cancel</span></button></div> </div> </div> </div> </div>\n",
       "</div>\n",
       "<div class=\"review\" data-stats=\"reviews:103751\" id=\"review-103751\"> <div class=\"box-body light b-t b-b p-t-sm p-b-sm\"> <div class=\"row\"> <div class=\"col-sm-9\"> <div class=\"pull-left m-r\"> <span><img src=\"https://i.mydramalist.com/AJPKvt.jpg\" width=\"84\"/></span> </div> <div> <div class=\"pull-right hidden-sm-up\"> <span class=\"review-tag completed\">Completed</span> </div> <b><a class=\"text-primary\" href=\"/42-devil-beside-you\">Devil Beside You</a></b> <div class=\"user-stats review_stats_103751\"><small><b>0</b> people found this review helpful</small> <i class=\"review-voted-check review-voted-check-103751\"></i></div> <div class=\"author\"><small>by <a class=\"text-primary\" href=\"/profile/Kittykoi\">Kittty</a></small></div> <div class=\"more-reviews\"><small><a class=\"text-primary\" href=\"/profile/Kittykoi/reviews\">Other reviews by this user</a></small></div> </div> </div> <div class=\"col-sm-3 text-sm text-right\"> <div class=\"meta\"> <small class=\"datetime\">4 hours ago</small> <div class=\"episodes-seen text-muted\"> <b>20</b> of <b>20</b> episodes seen </div> </div> <div class=\"actions\"> <span class=\"review-tag completed\">Completed</span> <small><a href=\"/profile/Kittykoi/review/103751\"><i class=\"fal fa-comments-alt\"></i> 0</a></small> <div class=\"mdl-dropdown\"> <a class=\"nav-link btn-menu\" data-id=\"103751\" data-type=\"review\"><span><i class=\"far fa-chevron-down\"></i></span></a> </div> </div> </div> </div> </div> <div class=\"box-body\"> <div class=\"row\"> <div class=\"col-sm-12 review-bodyfull-read\"> <div class=\"box pull-right text-sm m-a-sm\"> <div class=\"box-header p-t-sm p-b-sm rating-overall\"> <b>Overall <span class=\"score pull-right\">10</span></b> </div> <div class=\"box-body p-t-sm p-b-sm\"> <div class=\"list-group review-rating\"> <div>Story <span class=\"p-l-md pull-right\">10</span></div> <div>Acting/Cast <span class=\"p-l-md pull-right\">9.0</span></div> <div>Music <span class=\"p-l-md pull-right\">9.0</span></div> <div>Rewatch Value <span class=\"p-l-md pull-right\">10</span></div> </div> </div> </div> <p><strong>this story is base off of a japanese manga, but it stands out on it own</strong></p>  the manga was good, but the changes that was made from the manga to make the drama go better was what really made me fall in love.it had me hooked after the first five minutes of watching and it was over all great i have re watched this show so many times it still makes me like i watching it for the first time. Over all your laugh your cry and your fall in love.<br/>The actors that play the leads are two of my favorites actors and that beings a joy of it own to this show, the two always play well off each other no matter the roles their given.  <div class=\"review-helpful m-t p-t xb-t\"> <div class=\"review-vote review-helpful-103751\"><span class=\"text-muted\">Was this review helpful to you?</span> <button class=\"btn btn-xs white helpful review-cast-helpful\" data-id=\"103751\" data-label=\"Yes\"><span>Yes</span></button> <button class=\"btn btn-xs white unhelpful review-cast-helpful\" data-id=\"103751\" data-label=\"No\"><span>No</span></button> <button class=\"btn btn-xs white review-cancel-vote\" data-id=\"103751\"><span>Cancel</span></button></div> </div> </div> </div> </div>\n",
       "</div>\n",
       "<div class=\"review\" data-stats=\"reviews:103749\" id=\"review-103749\"> <div class=\"box-body light b-t b-b p-t-sm p-b-sm\"> <div class=\"row\"> <div class=\"col-sm-9\"> <div class=\"pull-left m-r\"> <span><img src=\"https://i.mydramalist.com/BgQQV_4t.jpg\" width=\"84\"/></span> </div> <div> <div class=\"pull-right hidden-sm-up\"> <span class=\"review-tag completed\">Completed</span> </div> <b><a class=\"text-primary\" href=\"/52541-love-by-chance-2\">Love By Chance 2: A Chance to Love</a></b> <div class=\"user-stats review_stats_103749\"><small><b>0</b> people found this review helpful</small> <i class=\"review-voted-check review-voted-check-103749\"></i></div> <div class=\"author\"><small>by <a class=\"text-primary\" href=\"/profile/dollopheadsandclotpoles\">dollopheadsandclotpoles</a></small></div> <div class=\"more-reviews\"><small><a class=\"text-primary\" href=\"/profile/dollopheadsandclotpoles/reviews\">Other reviews by this user</a></small></div> </div> </div> <div class=\"col-sm-3 text-sm text-right\"> <div class=\"meta\"> <small class=\"datetime\">5 hours ago</small> <div class=\"episodes-seen text-muted\"> <b>13</b> of <b>13</b> episodes seen </div> </div> <div class=\"actions\"> <span class=\"review-tag completed\">Completed</span> <small><a href=\"/profile/dollopheadsandclotpoles/review/103749\"><i class=\"fal fa-comments-alt\"></i> 0</a></small> <div class=\"mdl-dropdown\"> <a class=\"nav-link btn-menu\" data-id=\"103749\" data-type=\"review\"><span><i class=\"far fa-chevron-down\"></i></span></a> </div> </div> </div> </div> </div> <div class=\"box-body\"> <div class=\"row\"> <div class=\"col-sm-12 review-body\"> <div class=\"box pull-right text-sm m-a-sm\"> <div class=\"box-header p-t-sm p-b-sm rating-overall\"> <b>Overall <span class=\"score pull-right\">8.5</span></b> </div> <div class=\"box-body p-t-sm p-b-sm\"> <div class=\"list-group review-rating\"> <div>Story <span class=\"p-l-md pull-right\">8.5</span></div> <div>Acting/Cast <span class=\"p-l-md pull-right\">8.5</span></div> <div>Music <span class=\"p-l-md pull-right\">7.0</span></div> <div>Rewatch Value <span class=\"p-l-md pull-right\">10</span></div> </div> </div> </div> <div class=\"review-spoiler\">This review may contain spoilers</div>   I have been TinCan trash from season one. Going into this show I was nervous they would do something to ruin them, but honestly all this season did was make me love them more. While the reboot idea did not initially sit well with me, I think it proved to be a good decision. Sure, we did not get as much of the enemies aspect that we did in season one, but we got to see them being friends before they got together and I loved to see that. You could see in this season (that wasn't apparent in season one) that they really complement each other and enjoy each other's company and genuinely like being in the presence of the other. <br/><br/>Tin's motivations also seemed so much clearer to me than in season one. I loved seeing his character development, and how Can called him out whenever he overstepped his boundaries. Honestly their argument scenes were some of my favourites because they felt so real. Both Mean and Plan, I thought, acted really well. I especially love Plan's acting. He adds these microexpressions to the character that are just... so freaking good. I feel like a lesser actor would not have been able to capture the nuances of Can's character even half as well. He manages to go from sweet baby to feisty to shy to confident in the blink of an eye and makes it seem so natural. Also considering the writing was not the best, the actors did a great job with the delivery. <br/><br/>I especially loved to see how TinCan were such a healthy, communicative couple without losing their individual chaotic energies. I personally could not care less about the kiss scenes. For me it was their dynamic that I loved in season one, and I loved their dynamic here just as much, if not more (considering Tin wasn't forcing Can to interact with him). They're funny and cute and chaotic and communicative. I especially loved that after they got together, the conflicts were all external instead of the writers forcing some dumb miscommunication issues between the characters. They genuinely felt so real to me. None of their conversations were some romantic poetry that felt stilted and fake... they spoke like real people would and I loved to see it. I'm not generally a sappy romantic, but every scene between them made me melt. Plus they are so funny?? I love couples that make me laugh. <br/><br/>I gave this show an 8.5 partly cause of the writing/some aspects of the production quality, but also cause of the side-couples. I didn't like Klano in season one, and I didn't like them here. It's not the fault of the actors - they played them well - I just don't like the storyline. Never did. TumTar always bored me, so I was excited to see the budding relationship between Tum and Keen but we didn't get enough of them. TulHin... again... I didn't care about them?? I didn't like either of the characters much and so it was hard for me to care about them as a pairing. Ae was sad throughout, which after a while got really dull to watch. <br/><br/>That said, TinCan made up for it all. Would definitely watch it again for them specifically.  <p class=\"read-more\"><a class=\"button\" href=\"#\">Read More</a></p> <div class=\"review-helpful m-t p-t xb-t\"> <div class=\"review-vote review-helpful-103749\"><span class=\"text-muted\">Was this review helpful to you?</span> <button class=\"btn btn-xs white helpful review-cast-helpful\" data-id=\"103749\" data-label=\"Yes\"><span>Yes</span></button> <button class=\"btn btn-xs white unhelpful review-cast-helpful\" data-id=\"103749\" data-label=\"No\"><span>No</span></button> <button class=\"btn btn-xs white review-cancel-vote\" data-id=\"103749\"><span>Cancel</span></button></div> </div> </div> </div> </div>\n",
       "</div>\n",
       "<div class=\"review\" data-stats=\"reviews:103747\" id=\"review-103747\"> <div class=\"box-body light b-t b-b p-t-sm p-b-sm\"> <div class=\"row\"> <div class=\"col-sm-9\"> <div class=\"pull-left m-r\"> <span><img src=\"https://i.mydramalist.com/W7mX3_4t.jpg\" width=\"84\"/></span> </div> <div> <div class=\"pull-right hidden-sm-up\"> <span class=\"review-tag completed\">Completed</span> </div> <b><a class=\"text-primary\" href=\"/62143-youkai-share-house\">Youkai Sharehouse</a></b> <div class=\"user-stats review_stats_103747\"><small><b>2</b> people found this review helpful</small> <i class=\"review-voted-check review-voted-check-103747\"></i></div> <div class=\"author\"><small>by <a class=\"text-primary\" href=\"/profile/8243901\">WandereR</a></small></div> <div class=\"more-reviews\"><small><a class=\"text-primary\" href=\"/profile/8243901/reviews\">Other reviews by this user</a></small></div> </div> </div> <div class=\"col-sm-3 text-sm text-right\"> <div class=\"meta\"> <small class=\"datetime\">5 hours ago</small> <div class=\"episodes-seen text-muted\"> <b>8</b> of <b>8</b> episodes seen </div> </div> <div class=\"actions\"> <span class=\"review-tag completed\">Completed</span> <small><a href=\"/profile/8243901/review/103747\"><i class=\"fal fa-comments-alt\"></i> 0</a></small> <div class=\"mdl-dropdown\"> <a class=\"nav-link btn-menu\" data-id=\"103747\" data-type=\"review\"><span><i class=\"far fa-chevron-down\"></i></span></a> </div> </div> </div> </div> </div> <div class=\"box-body\"> <div class=\"row\"> <div class=\"col-sm-12 review-body\"> <div class=\"box pull-right text-sm m-a-sm\"> <div class=\"box-header p-t-sm p-b-sm rating-overall\"> <b>Overall <span class=\"score pull-right\">8.5</span></b> </div> <div class=\"box-body p-t-sm p-b-sm\"> <div class=\"list-group review-rating\"> <div>Story <span class=\"p-l-md pull-right\">8.5</span></div> <div>Acting/Cast <span class=\"p-l-md pull-right\">9.0</span></div> <div>Music <span class=\"p-l-md pull-right\">9.5</span></div> <div>Rewatch Value <span class=\"p-l-md pull-right\">8.5</span></div> </div> </div> </div> <p><strong>Welcome to the house of horrors</strong></p>  This drama is about Mio Meguro, who experiences an extremely bad turn in her life by being fired from her job, kicked out of her house, dumped by her boyfriend and harassed by debt collectors all at the same time. In the darkest moment of her life, she finds solace in a kind soul who offers her refuge in a quaint little traditional share house.  But, not all is as it seems….<br/><br/>As far as the usual J-Dorama eccentricity goes, this show is not even half as weird as most of the same genre.  Although the premise centres around the “youkai” (mysterious creatures of Japanese myth and folklore), spiritual/ dark arts themes with (minimal) elements of horror, this is pretty much a light hearted, comedic and well-acted production.<br/><br/>Koshiba Fuka plays the FL, Mio Meguro and her performance fits the role to a tee.  Much like her previous role in Tokusatsu Gagaga, she is adept at playing the shy, timid, soft spoken and unassuming character that makes you want to protect this poor unfortunate soul who gets trampled on by unscrupulous boyfriends, bosses, and basically all other bullies.  In addition to the fragile wimpiness, she projects the perfect blend of dramatic acting and comedic timing, thus making her well-suited to such humorous roles.   <br/><br/>The supporting cast of the various Youkai are equally fun and entertaining, with the fantastic monster makeup and get-up, which comes across as more adorable than terrifying, during the transformation segment of every episode.  This motley crew comprises monsters from tales as old as time, with Oiwa-san, Shutendoji, Zaishikiwarashi, and Nurarihyon as the primary share house occupants.  Guest appearances by their comrades in arms come in the form of Okiku, Yomotsushikome, Yamauba and Amabie.  Witnessing each of them with their uniquely strange and awesome powers truly is hilarious and mind-blowing.  <br/><br/>The OST is provided by Miwa (who guest stars as herself in the final episode) who composed the distinctive J-rock piece, Daitan (check out the MV, which was produced with a unique “Youkai” concept).<br/><br/>I was honestly caught by surprise at how entertaining this show was. The ending was astonishing but hugely satisfying as well.  Youkai Sharehouse is a light and easy watch if you’re in the mood for some laughter and fun, with the added insight into traditional Japanese folklore and myth of how the Youkai came into being.  Running at only 8 episodes, it won't take too much of your time to indulge and you'll be positively relishing every moment of it.    <p class=\"read-more\"><a class=\"button\" href=\"#\">Read More</a></p> <div class=\"review-helpful m-t p-t xb-t\"> <div class=\"review-vote review-helpful-103747\"><span class=\"text-muted\">Was this review helpful to you?</span> <button class=\"btn btn-xs white helpful review-cast-helpful\" data-id=\"103747\" data-label=\"Yes\"><span>Yes</span></button> <button class=\"btn btn-xs white unhelpful review-cast-helpful\" data-id=\"103747\" data-label=\"No\"><span>No</span></button> <button class=\"btn btn-xs white review-cancel-vote\" data-id=\"103747\"><span>Cancel</span></button></div> </div> </div> </div> </div>\n",
       "</div>\n",
       "<div class=\"review\" data-stats=\"reviews:103745\" id=\"review-103745\"> <div class=\"box-body light b-t b-b p-t-sm p-b-sm\"> <div class=\"row\"> <div class=\"col-sm-9\"> <div class=\"pull-left m-r\"> <span><img src=\"https://i.mydramalist.com/Q5pwYt.jpg\" width=\"84\"/></span> </div> <div> <div class=\"pull-right hidden-sm-up\"> <span class=\"review-tag completed\">Completed</span> </div> <b><a class=\"text-primary\" href=\"/26903-mistress\">Mistress</a></b> <div class=\"user-stats review_stats_103745\"><small><b>0</b> people found this review helpful</small> <i class=\"review-voted-check review-voted-check-103745\"></i></div> <div class=\"author\"><small>by <a class=\"text-primary\" href=\"/profile/Pinkpistacious\">Pinkpistacious</a></small></div> <div class=\"more-reviews\"><small><a class=\"text-primary\" href=\"/profile/Pinkpistacious/reviews\">Other reviews by this user</a></small></div> </div> </div> <div class=\"col-sm-3 text-sm text-right\"> <div class=\"meta\"> <small class=\"datetime\">5 hours ago</small> <div class=\"episodes-seen text-muted\"> <b>12</b> of <b>12</b> episodes seen </div> </div> <div class=\"actions\"> <span class=\"review-tag completed\">Completed</span> <small><a href=\"/profile/Pinkpistacious/review/103745\"><i class=\"fal fa-comments-alt\"></i> 0</a></small> <div class=\"mdl-dropdown\"> <a class=\"nav-link btn-menu\" data-id=\"103745\" data-type=\"review\"><span><i class=\"far fa-chevron-down\"></i></span></a> </div> </div> </div> </div> </div> <div class=\"box-body\"> <div class=\"row\"> <div class=\"col-sm-12 review-body\"> <div class=\"box pull-right text-sm m-a-sm\"> <div class=\"box-header p-t-sm p-b-sm rating-overall\"> <b>Overall <span class=\"score pull-right\">9.5</span></b> </div> <div class=\"box-body p-t-sm p-b-sm\"> <div class=\"list-group review-rating\"> <div>Story <span class=\"p-l-md pull-right\">9.5</span></div> <div>Acting/Cast <span class=\"p-l-md pull-right\">9.5</span></div> <div>Music <span class=\"p-l-md pull-right\">9.5</span></div> <div>Rewatch Value <span class=\"p-l-md pull-right\">10</span></div> </div> </div> </div> <p><strong>The most unpredictable drama I have seen in a long time</strong></p>  From the first episode I was on the edge of my seat until the very last 20 minutes. This drama was so unpredictable that it had me wondering what was going to happen next all the time. Every time I thought I had the ending figured out they threw in a little titbit that made me more confused than ever. Don't get me wrong it is not a jumble of random thoughts that was just stuck together with sticky tape to fill up the episodes.  It's not that the story didn't make sense, it's just kept you guessing all the time. <br/>And don't let the name Mistress fool you. There are two explicit scenes in the first two episodes, but nothing serious. But it is about what happens after an affair. The whole story was based around it. If I have to explain it I might give away a few spoilers.<br/>The story revolves around four women and each one's story is interesting, adding to the mystery of the whole drama. You would think having 4 side stories would make the drama long and boring but each woman had a man in  her life and it could be any of those men who was murdered in the end. And just as I thought it was this one or that one, they threw in a clue that completely threw me off again.<br/>One thing I can say: don't mess with a bunch of women who are best friends! They stuck together until the very end.<br/>It is one of those where you would like just one more episode. A season 2 would've been great.  <p class=\"read-more\"><a class=\"button\" href=\"#\">Read More</a></p> <div class=\"review-helpful m-t p-t xb-t\"> <div class=\"review-vote review-helpful-103745\"><span class=\"text-muted\">Was this review helpful to you?</span> <button class=\"btn btn-xs white helpful review-cast-helpful\" data-id=\"103745\" data-label=\"Yes\"><span>Yes</span></button> <button class=\"btn btn-xs white unhelpful review-cast-helpful\" data-id=\"103745\" data-label=\"No\"><span>No</span></button> <button class=\"btn btn-xs white review-cancel-vote\" data-id=\"103745\"><span>Cancel</span></button></div> </div> </div> </div> </div>\n",
       "</div>\n",
       "<div class=\"review\" data-stats=\"reviews:103743\" id=\"review-103743\"> <div class=\"box-body light b-t b-b p-t-sm p-b-sm\"> <div class=\"row\"> <div class=\"col-sm-9\"> <div class=\"pull-left m-r\"> <span><img src=\"https://i.mydramalist.com/b3nWEt.jpg\" width=\"84\"/></span> </div> <div> <div class=\"pull-right hidden-sm-up\"> <span class=\"review-tag completed\">Completed</span> </div> <b><a class=\"text-primary\" href=\"/3386-king2hearts\">King2Hearts</a></b> <div class=\"user-stats review_stats_103743\"><small><b>0</b> people found this review helpful</small> <i class=\"review-voted-check review-voted-check-103743\"></i></div> <div class=\"author\"><small>by <a class=\"text-primary\" href=\"/profile/liv_well\">livmj</a></small></div> <div class=\"more-reviews\"><small><a class=\"text-primary\" href=\"/profile/liv_well/reviews\">Other reviews by this user</a></small></div> </div> </div> <div class=\"col-sm-3 text-sm text-right\"> <div class=\"meta\"> <small class=\"datetime\">5 hours ago</small> <div class=\"episodes-seen text-muted\"> <b>20</b> of <b>20</b> episodes seen </div> </div> <div class=\"actions\"> <span class=\"review-tag completed\">Completed</span> <small><a href=\"/profile/liv_well/review/103743\"><i class=\"fal fa-comments-alt\"></i> 0</a></small> <div class=\"mdl-dropdown\"> <a class=\"nav-link btn-menu\" data-id=\"103743\" data-type=\"review\"><span><i class=\"far fa-chevron-down\"></i></span></a> </div> </div> </div> </div> </div> <div class=\"box-body\"> <div class=\"row\"> <div class=\"col-sm-12 review-body\"> <div class=\"box pull-right text-sm m-a-sm\"> <div class=\"box-header p-t-sm p-b-sm rating-overall\"> <b>Overall <span class=\"score pull-right\">9.5</span></b> </div> <div class=\"box-body p-t-sm p-b-sm\"> <div class=\"list-group review-rating\"> <div>Story <span class=\"p-l-md pull-right\">9.5</span></div> <div>Acting/Cast <span class=\"p-l-md pull-right\">9.5</span></div> <div>Music <span class=\"p-l-md pull-right\">10</span></div> <div>Rewatch Value <span class=\"p-l-md pull-right\">9.0</span></div> </div> </div> </div>   Previously I watched Vagabond casted by Lee Seung Gi then the Netflix recommended King 2 Hearts. I didn't read the synopsis whatsoever, and I solely saw because of the monarchy setting since I once love Princess Hour long time before and see that it contains action. I must say this is the best! This is my most favorite drama! This is not romance packed and it is more talk about responsibility and trust. Love is of course need to be there. But this drama is not having the tropes which Kdrama usually have but more political and reality. The vibe that I also get from Designated Survivor. But to be honest this is more has the humor, dark side, emotional. <br/><br/>Lee Jae Ha, well at first I want to drop the drama because he is being a jerk. To be honest for the first few episodes I keep hanging because of Hang Ah, King Jae Kang, and Eun Shi Kyung are there to lift the mood. But since the refrigerator kiss, I started to like him, and through the drama I really saw the development. He learns so much and I like it! Lee Seung Gi is the best I think to portrait Jae Ha, and so far the best LSG acting for me. <br/><br/>Kim Hang Ah is so  believable! Some people said she is inconsistent, or fall to the weak side. But I don't feel like that. Kim Hang Ah is the female lead that actually the most I admirer from Kdramas I've ever watch. She is tough, yet she wants to be loved. She actually soft and cute, but because of her profession of course she need to look tough and badass while as a wife (or soon-to-be) she needs to be a support for her husband and family. And when she started to enter the SK palace, of course she needs to balance and adjust that she is in different place, not in the comfortable place where she used to be in NK. Step up from your comfortable place, of course you will feel weaker, and need to learn a lot. However we can see that it's her integrity and principle is still there and being the light of the royal family and that's she came to protect. This is my first Ha Ji Won drama, and this is where I fall in love in the first sight and want to watch her projects more (and I'm done already, never be disappointed with her acting)!  Again you can argue me, who can do better to portrait Kim Hang Ah aside of her?<br/><br/>Eun Shi Kyung and Princess Jae Shin... this one which have more romance and swoon scene for me. They both delivered well. <br/><br/>The OST.. ughh how can I say more. Missing You and Love is Crying is always in my playlist. <br/><br/>I could give 10 but i'm quite annoyed with American actors, and the English script for them :) <br/><br/> <p class=\"read-more\"><a class=\"button\" href=\"#\">Read More</a></p> <div class=\"review-helpful m-t p-t xb-t\"> <div class=\"review-vote review-helpful-103743\"><span class=\"text-muted\">Was this review helpful to you?</span> <button class=\"btn btn-xs white helpful review-cast-helpful\" data-id=\"103743\" data-label=\"Yes\"><span>Yes</span></button> <button class=\"btn btn-xs white unhelpful review-cast-helpful\" data-id=\"103743\" data-label=\"No\"><span>No</span></button> <button class=\"btn btn-xs white review-cancel-vote\" data-id=\"103743\"><span>Cancel</span></button></div> </div> </div> </div> </div>\n",
       "</div>\n",
       "<div class=\"review\" data-stats=\"reviews:103741\" id=\"review-103741\"> <div class=\"box-body light b-t b-b p-t-sm p-b-sm\"> <div class=\"row\"> <div class=\"col-sm-9\"> <div class=\"pull-left m-r\"> <span><img src=\"https://i.mydramalist.com/BgQQV_4t.jpg\" width=\"84\"/></span> </div> <div> <div class=\"pull-right hidden-sm-up\"> <span class=\"review-tag completed\">Completed</span> </div> <b><a class=\"text-primary\" href=\"/52541-love-by-chance-2\">Love By Chance 2: A Chance to Love</a></b> <div class=\"user-stats review_stats_103741\"><small><b>0</b> people found this review helpful</small> <i class=\"review-voted-check review-voted-check-103741\"></i></div> <div class=\"author\"><small>by <a class=\"text-primary\" href=\"/profile/8022973\">Chad</a></small></div> <div class=\"more-reviews\"><small><a class=\"text-primary\" href=\"/profile/8022973/reviews\">Other reviews by this user</a></small></div> </div> </div> <div class=\"col-sm-3 text-sm text-right\"> <div class=\"meta\"> <small class=\"datetime\">6 hours ago</small> <div class=\"episodes-seen text-muted\"> <b>13</b> of <b>13</b> episodes seen </div> </div> <div class=\"actions\"> <span class=\"review-tag completed\">Completed</span> <small><a href=\"/profile/8022973/review/103741\"><i class=\"fal fa-comments-alt\"></i> 0</a></small> <div class=\"mdl-dropdown\"> <a class=\"nav-link btn-menu\" data-id=\"103741\" data-type=\"review\"><span><i class=\"far fa-chevron-down\"></i></span></a> </div> </div> </div> </div> </div> <div class=\"box-body\"> <div class=\"row\"> <div class=\"col-sm-12 review-body\"> <div class=\"box pull-right text-sm m-a-sm\"> <div class=\"box-header p-t-sm p-b-sm rating-overall\"> <b>Overall <span class=\"score pull-right\">6.0</span></b> </div> <div class=\"box-body p-t-sm p-b-sm\"> <div class=\"list-group review-rating\"> <div>Story <span class=\"p-l-md pull-right\">4.0</span></div> <div>Acting/Cast <span class=\"p-l-md pull-right\">8.0</span></div> <div>Music <span class=\"p-l-md pull-right\">9.0</span></div> <div>Rewatch Value <span class=\"p-l-md pull-right\">6.0</span></div> </div> </div> </div> <div class=\"review-spoiler\">This review may contain spoilers</div> <p><strong>Disappointed, but it could have been worse</strong></p>  Love By Chance is one of my favorite Thai BL dramas, except for one very cringeworthy scene, so I had high hopes for the second season. I was a bit disappointed, but it could have been worse.<br/><br/>The drama is set in a bizarre world where Ae/Pete and Kengkla/Techno (ugh) happened, but Tin and Can are strangers. And we spend the first six or so episodes essentially doing their plot line from the first season over again with minor variations. The whole thing seemed a bit disjointed and like they tried to wrap everything up at the end, not particularly successfully.<br/><br/>Tin/Can was very cute, and I really enjoyed the Mean/Plan on-screen chemistry. It was somewhat more respectful than the first season. Tin is his very serious, restrained self, and Can is silly and naive.<br/><br/>A lot of the other plot lines are underdeveloped. Ae's plot with Pete overseas lasted throughout the whole season. Although he did exhibit a little growth, it felt like that dragged on and on. There was an ambiguously happy end for him, though.<br/><br/>Tum and Tar had very limited screen time, and Tum apparently ended up with Keen--maybe? They could have done a lot more with this. And Tul and Gonhin  leaves so many questions, and was similarly rushed and squeezed into the end. I'm not even sure of the point of these.<br/><br/>Last but not least: Kengkla/Techno. Kengkla feels a little remorse for his transgressions in the previous season, which I guess is good. But it was very cringeworthy when Techno was telling himself that Kengkla is cute. Kengkla keeps creeping on Techno, and then they end up holding hands at the mall and apparently kissing. Instead of redoing Tin/Can, they could have redone Techno/Kengkla and left the rape out! Mark and Gun are cute together, and I think they could have come up with a much better way to get them together, like maybe Kengkla confessing his attraction or even taking care of drunk or injured Techno, to use a common BL trope.<br/><br/>All in all, there was quite a bit mediocre, but Tin/Can made it worth it, and it was nice seeing Perth, Sammy, and Yacht again, not to mention the great OST.  <p class=\"read-more\"><a class=\"button\" href=\"#\">Read More</a></p> <div class=\"review-helpful m-t p-t xb-t\"> <div class=\"review-vote review-helpful-103741\"><span class=\"text-muted\">Was this review helpful to you?</span> <button class=\"btn btn-xs white helpful review-cast-helpful\" data-id=\"103741\" data-label=\"Yes\"><span>Yes</span></button> <button class=\"btn btn-xs white unhelpful review-cast-helpful\" data-id=\"103741\" data-label=\"No\"><span>No</span></button> <button class=\"btn btn-xs white review-cancel-vote\" data-id=\"103741\"><span>Cancel</span></button></div> </div> </div> </div> </div>\n",
       "</div>\n",
       "<div class=\"review\" data-stats=\"reviews:103739\" id=\"review-103739\"> <div class=\"box-body light b-t b-b p-t-sm p-b-sm\"> <div class=\"row\"> <div class=\"col-sm-9\"> <div class=\"pull-left m-r\"> <span><img src=\"https://i.mydramalist.com/BgQQV_4t.jpg\" width=\"84\"/></span> </div> <div> <div class=\"pull-right hidden-sm-up\"> <span class=\"review-tag completed\">Completed</span> </div> <b><a class=\"text-primary\" href=\"/52541-love-by-chance-2\">Love By Chance 2: A Chance to Love</a></b> <div class=\"user-stats review_stats_103739\"><small><b>0</b> people found this review helpful</small> <i class=\"review-voted-check review-voted-check-103739\"></i></div> <div class=\"author\"><small>by <a class=\"text-primary\" href=\"/profile/Synchonicity\">Synchonicity</a></small></div> <div class=\"more-reviews\"><small><a class=\"text-primary\" href=\"/profile/Synchonicity/reviews\">Other reviews by this user</a></small></div> </div> </div> <div class=\"col-sm-3 text-sm text-right\"> <div class=\"meta\"> <small class=\"datetime\">6 hours ago</small> <div class=\"episodes-seen text-muted\"> <b>13</b> of <b>13</b> episodes seen </div> </div> <div class=\"actions\"> <span class=\"review-tag completed\">Completed</span> <small><a href=\"/profile/Synchonicity/review/103739\"><i class=\"fal fa-comments-alt\"></i> 0</a></small> <div class=\"mdl-dropdown\"> <a class=\"nav-link btn-menu\" data-id=\"103739\" data-type=\"review\"><span><i class=\"far fa-chevron-down\"></i></span></a> </div> </div> </div> </div> </div> <div class=\"box-body\"> <div class=\"row\"> <div class=\"col-sm-12 review-body\"> <div class=\"box pull-right text-sm m-a-sm\"> <div class=\"box-header p-t-sm p-b-sm rating-overall\"> <b>Overall <span class=\"score pull-right\">8.0</span></b> </div> <div class=\"box-body p-t-sm p-b-sm\"> <div class=\"list-group review-rating\"> <div>Story <span class=\"p-l-md pull-right\">4.5</span></div> <div>Acting/Cast <span class=\"p-l-md pull-right\">8.5</span></div> <div>Music <span class=\"p-l-md pull-right\">10</span></div> <div>Rewatch Value <span class=\"p-l-md pull-right\">7.5</span></div> </div> </div> </div> <div class=\"review-spoiler\">This review may contain spoilers</div>   I was a Tin/Can shipper from Season 1 and, as such, I was royally pissed at the way Season 1 ended.  Overall, I was okay with how the Tin/Can story was handled here.  Here are my pros and cons:<br/><br/>PROS:<br/><br/>TIN &amp; CAN CHARACTERS.  I just love them.  Mean plays Tin so sensitively, and Plan brings out the over-the-top craziness of Can to a T.<br/><br/>MUSIC.  That was one of the things I really liked about Season 1, so it was nice to have so much of the same soundtrack used here in Season 2.<br/><br/>TUL/HIN KISSING SCENES.  Hawt.  Nothing more to say.<br/><br/>SUPPORTING CHARACTERS.  Nice to see Pond and Bow back.  Would have liked to see more of Bow.  Mai and Job were welcome additions.<br/><br/>FOOD SCENES.  Seriously!  When Tul made the spaghetti with bacon and chili sauce for Can, it looked so good that I learned to make that dish myself.  (And yes, it was delicious!)<br/><br/>CONS:<br/><br/>TOO MUCH DEVOTED TO TIN/CAN BACKSTORY.  I suppose if one never watched Season 1, this wouldn't have mattered.  But SIX episodes devoted to backstory?  Okay, we got some insight that we didn't get in Season 1, but it was just too much.<br/><br/>OTHER COUPLES.   Kla/No would have been fine and cute, if it weren't for the fact that Kla RAPED No, and it was swept under the rug.  Tum/Tar were non-existent and had no more than three minutes of screen time for the entire series (and they had only about 15 minutes of screen time in Season 1).  Was there a point to them?  Tum got together with Keen, so I guess it's all good...  whatever.<br/><br/>TUL/HIN STORYLINE.  Weird as hell.  So, it seems, Tul served as a sadistic master to Hin for years.  Then, when Hin comes back, it's as if they're the sweetest couple in the world, as they become Phupha's two dads.  And speaking of Phupha...<br/><br/>PHUPHA.  Most annoying little kid I've observed in quite a while.  Couldn't stand that twerp.<br/><br/>THE FATHER.  Wth was that all about?  I couldn't follow his story at all...  especially when it came to Hin.  Did the father send Hin as a sex slave to Tul?  And dad just sits in a home office all day and lets his two sons fester in their emotional problems?  What a weirdo.<br/><br/>LAY.  She started out kind of cute, but then became super creepy and unlikeable.  Yecch.<br/><br/>AE.  Perth is a fine actor, but his self-destruction seemed over-the-top.  And please, PLEASE...  don't let him sing in another series.  Ever.  And I've always been upset with Ae, for treating his good friend Pond like a total pile of shit (in both this season and last).<br/><br/>I'm rating this on the high side -- 8.0 -- which is strictly because of Tin/Can. <br/><br/> <p class=\"read-more\"><a class=\"button\" href=\"#\">Read More</a></p> <div class=\"review-helpful m-t p-t xb-t\"> <div class=\"review-vote review-helpful-103739\"><span class=\"text-muted\">Was this review helpful to you?</span> <button class=\"btn btn-xs white helpful review-cast-helpful\" data-id=\"103739\" data-label=\"Yes\"><span>Yes</span></button> <button class=\"btn btn-xs white unhelpful review-cast-helpful\" data-id=\"103739\" data-label=\"No\"><span>No</span></button> <button class=\"btn btn-xs white review-cancel-vote\" data-id=\"103739\"><span>Cancel</span></button></div> </div> </div> </div> </div>\n",
       "</div>\n",
       "<div class=\"review\" data-stats=\"reviews:103735\" id=\"review-103735\"> <div class=\"box-body light b-t b-b p-t-sm p-b-sm\"> <div class=\"row\"> <div class=\"col-sm-9\"> <div class=\"pull-left m-r\"> <span><img src=\"https://i.mydramalist.com/BgQQV_4t.jpg\" width=\"84\"/></span> </div> <div> <div class=\"pull-right hidden-sm-up\"> <span class=\"review-tag completed\">Completed</span> </div> <b><a class=\"text-primary\" href=\"/52541-love-by-chance-2\">Love By Chance 2: A Chance to Love</a></b> <div class=\"user-stats review_stats_103735\"><small><b>2</b> people found this review helpful</small> <i class=\"review-voted-check review-voted-check-103735\"></i></div> <div class=\"author\"><small>by <a class=\"text-primary\" href=\"/profile/sony25t\">sony_t</a></small></div> <div class=\"more-reviews\"><small><a class=\"text-primary\" href=\"/profile/sony25t/reviews\">Other reviews by this user</a></small></div> </div> </div> <div class=\"col-sm-3 text-sm text-right\"> <div class=\"meta\"> <small class=\"datetime\">7 hours ago</small> <div class=\"episodes-seen text-muted\"> <b>13</b> of <b>13</b> episodes seen </div> </div> <div class=\"actions\"> <span class=\"review-tag completed\">Completed</span> <small><a href=\"/profile/sony25t/review/103735\"><i class=\"fal fa-comments-alt\"></i> 0</a></small> <div class=\"mdl-dropdown\"> <a class=\"nav-link btn-menu\" data-id=\"103735\" data-type=\"review\"><span><i class=\"far fa-chevron-down\"></i></span></a> </div> </div> </div> </div> </div> <div class=\"box-body\"> <div class=\"row\"> <div class=\"col-sm-12 review-body\"> <div class=\"box pull-right text-sm m-a-sm\"> <div class=\"box-header p-t-sm p-b-sm rating-overall\"> <b>Overall <span class=\"score pull-right\">4.5</span></b> </div> <div class=\"box-body p-t-sm p-b-sm\"> <div class=\"list-group review-rating\"> <div>Story <span class=\"p-l-md pull-right\">3.0</span></div> <div>Acting/Cast <span class=\"p-l-md pull-right\">5.5</span></div> <div>Music <span class=\"p-l-md pull-right\">4.0</span></div> <div>Rewatch Value <span class=\"p-l-md pull-right\">2.0</span></div> </div> </div> </div> <p><strong>It should have stayed in draft</strong></p>  Is there story original? No.It was a basic rich arrogant guy falls for the naive poor guy kinda story. For what it lacked in originality it made up... not being bland. That’s it. There wasn’t anything outstanding or special about this couple that set them aside from others. I may not have been on this pairings bandwagon even in the first season, but I found them entertaining enough and can admit to their appeal. Besides I love Techno so there was also something to be excited about for me.<br/><br/>I know fans of this couple have waited two years to get this sequel and it should have been an overall success.<br/><br/>Right out the gate, this series turns off most viewers by deciding to restart the TinCan story afresh. Afresh wouldn’t be bad if it was an overall new storyline, rather they pretty much retold what took place in LBC1 in a long winded lackluster way. It took 6 episodes to reach the point of the story that wasn’t already told in LBC1. Its lack of continuity led to a lot of confusion and frustration as it also showed changes in character personality.<br/>The awkward and bad acting that hasn’t improved in these two years becomes even more evident, by the abysmal script, unimaginative plot, poor choice in OST, overall low quality production. Rather than a highly expected series, this comes off as one of those unknown small company production with first timer production. <br/><br/>The fact that Plan doesn’t even know how to command the muscles around his lips to part for a kiss scene while the script makes him sound like a horny teenager has managed to raise the cringe factor to high level.  The only slightly interesting plot in this drama came around the end of the series between Tin’s brother Tul and Gonhin.<br/><br/>I had initially started taking notes so I can write an objective review but by the 3rd ep I chucked the list away since it wasn’t worth the effort. It was bad all over and if I kept making lists than it would be miles long and I can’t do that to myself. I’ll say this much though, This series owes Gun and Mark a huge apology for taking their characters plot from crap in season 1 to still crap here. Thailand owes Mark a better drama! Another apology to Perth, since I have no idea why both he and viewers had to suffer while he was mopping around for an entire season. And another one to Yacht for making him go through this when he had played such a lovable, fun Pond in S1. The only credit this series deserves is it washed off that incest-adjacent relationship between Tum and Tar. <br/><br/>For a series with a highly successful prequel, everything about this series showed the lack of preparation, commitment, and care for quality. If the purpose of making this series was to make the fans wish they could wipe out everything they have watched, I can say this drama has succeeded. If the intention was to give the fans the drama they have patiently waited for, to give the actors who have chosen this as their last project and their fans a chance to bid farewell to these characters, then it was a miserable failure.  <p class=\"read-more\"><a class=\"button\" href=\"#\">Read More</a></p> <div class=\"review-helpful m-t p-t xb-t\"> <div class=\"review-vote review-helpful-103735\"><span class=\"text-muted\">Was this review helpful to you?</span> <button class=\"btn btn-xs white helpful review-cast-helpful\" data-id=\"103735\" data-label=\"Yes\"><span>Yes</span></button> <button class=\"btn btn-xs white unhelpful review-cast-helpful\" data-id=\"103735\" data-label=\"No\"><span>No</span></button> <button class=\"btn btn-xs white review-cancel-vote\" data-id=\"103735\"><span>Cancel</span></button></div> </div> </div> </div> </div>\n",
       "</div>\n",
       "<div class=\"review\" data-stats=\"reviews:103733\" id=\"review-103733\"> <div class=\"box-body light b-t b-b p-t-sm p-b-sm\"> <div class=\"row\"> <div class=\"col-sm-9\"> <div class=\"pull-left m-r\"> <span><img src=\"https://i.mydramalist.com/dQdEW_4t.jpg\" width=\"84\"/></span> </div> <div> <div class=\"pull-right hidden-sm-up\"> <span class=\"review-tag ongoing\">Ongoing</span> <span>4/5</span> </div> <b><a class=\"text-primary\" href=\"/55651-bkpp\">I Told Sunset About You</a></b> <div class=\"user-stats review_stats_103733\"><small><b>0</b> people found this review helpful</small> <i class=\"review-voted-check review-voted-check-103733\"></i></div> <div class=\"author\"><small>by <a class=\"text-primary\" href=\"/profile/8154493\">Aiman Namia</a></small></div> <div class=\"more-reviews\"><small><a class=\"text-primary\" href=\"/profile/8154493/reviews\">Other reviews by this user</a></small></div> </div> </div> <div class=\"col-sm-3 text-sm text-right\"> <div class=\"meta\"> <small class=\"datetime\">7 hours ago</small> <div class=\"episodes-seen text-muted\"> <b>4</b> of <b>5</b> episodes seen </div> </div> <div class=\"actions\"> <span class=\"review-tag ongoing\">Ongoing</span> <small><a href=\"/profile/8154493/review/103733\"><i class=\"fal fa-comments-alt\"></i> 0</a></small> <div class=\"mdl-dropdown\"> <a class=\"nav-link btn-menu\" data-id=\"103733\" data-type=\"review\"><span><i class=\"far fa-chevron-down\"></i></span></a> </div> </div> </div> </div> </div> <div class=\"box-body\"> <div class=\"row\"> <div class=\"col-sm-12 review-body\"> <div class=\"box pull-right text-sm m-a-sm\"> <div class=\"box-header p-t-sm p-b-sm rating-overall\"> <b>Overall <span class=\"score pull-right\">10</span></b> </div> <div class=\"box-body p-t-sm p-b-sm\"> <div class=\"list-group review-rating\"> <div>Story <span class=\"p-l-md pull-right\">10</span></div> <div>Acting/Cast <span class=\"p-l-md pull-right\">10</span></div> <div>Music <span class=\"p-l-md pull-right\">10</span></div> <div>Rewatch Value <span class=\"p-l-md pull-right\">10</span></div> </div> </div> </div> <p><strong>BL series that u must watch before die</strong></p>  no words all aspect of this series freaking amazing, i just create this acc mydramalist for this series to praise the all cast ...now the standard of other bl needs to high with this ...luv so much arghh....need another series with this kind of storyline and the actors are probally main reason ..their chemistry no joke huhuhu.<br/><br/>no words all aspect of this series freaking amazing, i just create this acc mydramalist for this series to praise the all cast ...now the standard of other bl needs to high with this ...luv so much arghh....need another series with this kind of storyline and the actors are probally main reason ..their chemistry no joke huhuhu.<br/><br/>no words all aspect of this series freaking amazing, i just create this acc mydramalist for this series to praise the all cast ...now the standard of other bl needs to high with this ...luv so much arghh....need another series with this kind of storyline and the actors are probally main reason ..their chemistry no joke huhuhu.<br/><br/>no words all aspect of this series freaking amazing, i just create this acc mydramalist for this series to praise the all cast ...now the standard of other bl needs to high with this ...luv so much arghh....need another series with this kind of storyline and the actors are probally main reason ..their chemistry no joke huhuhu.<br/><br/>sory same content  <p class=\"read-more\"><a class=\"button\" href=\"#\">Read More</a></p> <div class=\"review-helpful m-t p-t xb-t\"> <div class=\"review-vote review-helpful-103733\"><span class=\"text-muted\">Was this review helpful to you?</span> <button class=\"btn btn-xs white helpful review-cast-helpful\" data-id=\"103733\" data-label=\"Yes\"><span>Yes</span></button> <button class=\"btn btn-xs white unhelpful review-cast-helpful\" data-id=\"103733\" data-label=\"No\"><span>No</span></button> <button class=\"btn btn-xs white review-cancel-vote\" data-id=\"103733\"><span>Cancel</span></button></div> </div> </div> </div> </div>\n",
       "</div>\n",
       "<div class=\"box-footer b-t\"> <ul class=\"pagination\"><li class=\"page-item nb active\"><a class=\"page-link\" href=\"\">1</a></li><li class=\"page-item\"><a class=\"page-link\" href=\"/reviews/shows?page=2\">2</a></li><li class=\"page-item\"><a class=\"page-link\" href=\"/reviews/shows?page=3\">3</a></li><li class=\"page-item\"><a class=\"page-link\" href=\"/reviews/shows?page=4\">4</a></li><li class=\"page-item\"><a class=\"page-link\" href=\"/reviews/shows?page=5\">5</a></li><li class=\"page-item\"><a class=\"page-link\" href=\"/reviews/shows?page=6\">6</a></li><li class=\"page-item next\"><a class=\"page-link\" href=\"/reviews/shows?page=2\"></a></li><li class=\"page-item last\"><a class=\"page-link\" href=\"/reviews/shows?page=3621\"></a></li></ul> </div> </div> </div> <div class=\"col-lg-4 col-md-4\"> <div class=\"content-side\">\n",
       "<div class=\"spnsr_right_2047\"><div class=\"spnsr\" id=\"mdl-gpt-fbox1-0\" style=\"height:250px; width:300px;\">\n",
       "<script>\n",
       "mdltag.cmd.push(function() {\n",
       "mdltag.defineSlot('/47261215/film_box_1', [300, 250], 'mdl-gpt-fbox1-0');\n",
       "})\n",
       "</script>\n",
       "</div> </div> <div class=\"box\">\n",
       "<div class=\"box-header\"><h2>Recent Discussions</h2></div>\n",
       "<div class=\"box-divider m-a-0\"></div>\n",
       "<ul class=\"list\">\n",
       "<li class=\"list-item\">\n",
       "<div class=\"list-left\"><img class=\"w-40 avatar\" src=\"https://i.mydramalist.com/BN6VV_1t.jpg\"/></div>\n",
       "<div class=\"list-body\"><a class=\"text-ellipsis text-primary\" href=\"/discussions/forum-games/49787-count-up-to-20000\">✰ Count up to 700000 ✰</a>\n",
       "<div><small class=\"text-muted\"><i class=\"fal fa-clock\"></i> 8 minutes ago</small></div>\n",
       "</div>\n",
       "</li>\n",
       "<li class=\"list-item\">\n",
       "<div class=\"list-left\"><img class=\"w-40 avatar\" src=\"https://i.mydramalist.com/q3Kn0_1t.jpg\"/></div>\n",
       "<div class=\"list-body\"><a class=\"text-ellipsis text-primary\" href=\"/discussions/forum-games/49865-change-one-letter-to-make-a-new-word\">Change 1 letter to make a new word</a>\n",
       "<div><small class=\"text-muted\"><i class=\"fal fa-clock\"></i> 9 minutes ago</small></div>\n",
       "</div>\n",
       "</li>\n",
       "<li class=\"list-item\">\n",
       "<div class=\"list-left\"><img class=\"w-40 avatar\" src=\"https://i.mydramalist.com/letter/Rufus\"/></div>\n",
       "<div class=\"list-body\"><a class=\"text-ellipsis text-primary\" href=\"/discussions/suggestions/48617-more-options-for-crew-members-music-producer-editor-etc\">More options for crew members (Music, Producer, Editor, etc)</a>\n",
       "<div><small class=\"text-muted\"><i class=\"fal fa-clock\"></i> 13 minutes ago</small></div>\n",
       "</div>\n",
       "</li>\n",
       "<li class=\"list-item\">\n",
       "<div class=\"list-left\"><img class=\"w-40 avatar\" src=\"https://i.mydramalist.com/rmBEjt.gif\"/></div>\n",
       "<div class=\"list-body\"><a class=\"text-ellipsis text-primary\" href=\"/discussions/general-asia-forum/44385-which-was-the-last-drama-episode-you-watched-part-3\">Which Was the Last Drama Episode You Watched? Part 3</a>\n",
       "<div><small class=\"text-muted\"><i class=\"fal fa-clock\"></i> 22 minutes ago</small></div>\n",
       "</div>\n",
       "</li>\n",
       "<li class=\"list-item\">\n",
       "<div class=\"list-left\"><img class=\"w-40 avatar\" src=\"https://i.mydramalist.com/q3Kn0_1t.jpg\"/></div>\n",
       "<div class=\"list-body\"><a class=\"text-ellipsis text-primary\" href=\"/discussions/forum-games/50045-10-dramas-movies-with-3\">10 dramas/movies with ___? #3</a>\n",
       "<div><small class=\"text-muted\"><i class=\"fal fa-clock\"></i> 23 minutes ago</small></div>\n",
       "</div>\n",
       "</li>\n",
       "</ul>\n",
       "</div> <div class=\"sticky-wrapper\" id=\"sticky-wrapper\" style=\"height: 250px;\"><div class=\"sticky\"> <div class=\"spnsr_right_2047\"><div class=\"spnsr\" id=\"mdl-gpt-fbox3-0\" style=\"min-height: 250px;\">\n",
       "<script>\n",
       "mdltag.cmd.push(function() {\n",
       "mdltag.defineSlot('/47261215/film_box_3', [[300, 600], [300, 250]], 'mdl-gpt-fbox3-0');\n",
       "})\n",
       "</script>\n",
       "</div>\n",
       "</div>\n",
       "</div></div> </div> </div>\n",
       "</div>\n",
       "</div>\n",
       "<div id=\"btn-bug-report hide\"><a href=\"/discussions/support\"><i></i></a></div>\n",
       "</div>\n",
       "</div>\n",
       "<div class=\"app-footer black dk pos-rlt\" id=\"footer\">\n",
       "<div class=\"spnsr-top-2047\">\n",
       "<div class=\"mdl-gpt-tag\" id=\"mdl-gpt-footer-0\">\n",
       "<script>\n",
       "mdltag.cmd.push(function() {\n",
       "mdltag.defineSlot('/47261215/footer_1', [[970, 250], [970, 90], [728, 90]], 'mdl-gpt-footer-0');\n",
       "})\n",
       "</script>\n",
       "</div>\n",
       "</div>\n",
       "<div class=\"footer p-x-md\">\n",
       "<div class=\"row no-gutter\">\n",
       "<div class=\"col-sm-4\">\n",
       "<div class=\"m-t\">\n",
       "<a href=\"/\"><img alt=\"MyDramaList\" height=\"24\" src=\"/assets/logo_w.png\" width=\"158\"/></a>\n",
       "</div>\n",
       "<div><small class=\"text-muted\">© Copyright 2020. All rights reserved.</small></div>\n",
       "<div class=\"m-t m-y\">\n",
       "<div class=\"m-t inline m-y\">\n",
       "<a class=\"btn btn-icon btn-social rounded btn-sm white\" href=\"https://www.facebook.com/MyDramaListdotcom/\"><i class=\"fab fa-facebook-f\"></i> <i class=\"fab fa-facebook-f indigo\"></i></a>\n",
       "<a class=\"btn btn-icon btn-social rounded btn-sm white\" href=\"https://twitter.com/My_Drama_List\"><i class=\"fab fa-twitter\"></i> <i class=\"fab fa-twitter light-blue\"></i></a>\n",
       "<a class=\"btn btn-icon btn-social rounded btn-sm white\" href=\"https://www.instagram.com/my.drama.list/\"><i class=\"fab fa-instagram\"></i> <i class=\"fab fa-instagram red\"></i></a>\n",
       "<a class=\"btn btn-icon btn-social rounded btn-sm white\" href=\"https://www.youtube.com/channel/UCfnEmDUWC4m0k-tDDGVM2Uw\"><i class=\"fab fa-youtube\"></i> <i class=\"fab fa-youtube red\"></i></a>\n",
       "<a class=\"btn btn-icon btn-social rounded btn-sm white\" href=\"https://mydramalist.com/rss\"><i class=\"fas fa-rss\"></i> <i class=\"fas fa-rss orange\"></i></a>\n",
       "</div>\n",
       "</div>\n",
       "</div>\n",
       "<div class=\"col-sm-3\">\n",
       "<div class=\"m-y\">\n",
       "<h3 class=\"text-md\">ABOUT</h3>\n",
       "<ul class=\"nav m-t\">\n",
       "<li class=\"m-t-sm\"><a href=\"/faq\" rel=\"external nofollow\"><span>FAQ</span></a></li>\n",
       "<li class=\"m-t-sm\"><a href=\"/about\" rel=\"external nofollow\"><span>About Us</span></a></li>\n",
       "<li class=\"m-t-sm\"><a href=\"/contact\" rel=\"external nofollow\"><span>Contact</span></a></li>\n",
       "<li class=\"m-t-sm\"><a href=\"/terms\" rel=\"external nofollow\"><span>Terms</span></a></li>\n",
       "<li class=\"m-t-sm\"><a href=\"/privacy\" rel=\"external nofollow\"><span>Privacy</span></a></li>\n",
       "<li class=\"m-t-sm\"><a href=\"/vip\" rel=\"external nofollow\"><span>Support Us</span></a></li>\n",
       "</ul>\n",
       "</div>\n",
       "</div>\n",
       "<div class=\"col-sm-3\">\n",
       "<div class=\"m-y\">\n",
       "<h3 class=\"text-md\">DARK MODE</h3>\n",
       "<div class=\"m-t inline m-y dark-mode\">\n",
       "<a class=\"btn btn-icon btn-social rounded btn-sm white btn-dark-mode\" data-mode=\"1\" href=\"#\"><i class=\"fa fa-moon mode-dark\"></i> <i class=\"fa fa-moon info\"></i></a>\n",
       "<a class=\"btn btn-icon btn-social rounded btn-sm white btn-dark-mode\" data-mode=\"0\" href=\"#\"><i class=\"fa fa-sun mode-light\"></i> <i class=\"fa fa-sun yellow\"></i></a>\n",
       "</div>\n",
       "</div>\n",
       "<div class=\"m-y\">\n",
       "<h3 class=\"text-md\">WORK WITH US</h3>\n",
       "<ul class=\"nav m-t\">\n",
       "<li class=\"m-t-sm\"><a href=\"/discussions/community-tasks/29624-mdl-writers-article-ideas-discussion\"><span>Writers</span></a></li>\n",
       "<li class=\"m-t-sm\"><a href=\"/contact\" rel=\"external nofollow\"><span>Advertise</span></a></li>\n",
       "<li class=\"m-t-sm\"><a href=\"/api_request\" rel=\"external nofollow\"><span>API</span></a></li>\n",
       "</ul>\n",
       "</div>\n",
       "</div>\n",
       "<div class=\"col-sm-2\">\n",
       "<div class=\"m-y\">\n",
       "<h3 class=\"text-md\">RECOMMENDED</h3>\n",
       "<ul class=\"nav m-t\">\n",
       "<li class=\"m-t-sm\"><a href=\"/episode-calendar\"><span>Korean Drama Calendar</span></a></li>\n",
       "<li class=\"m-t-sm\"><a href=\"/shows/top_korean_dramas\"><span>Top 100 Korean Dramas</span></a></li>\n",
       "<li class=\"m-t-sm\"><a href=\"/shows/top_japanese_dramas\"><span>Top 100 Japanese Dramas</span></a></li>\n",
       "<li class=\"m-t-sm\"><a href=\"/shows/top_chinese_dramas\"><span>Top 100 Chinese Dramas</span></a></li>\n",
       "</ul>\n",
       "</div>\n",
       "</div>\n",
       "</div>\n",
       "</div>\n",
       "</div>\n",
       "</div>\n",
       "</div>\n",
       "<div id=\"mdl-manage-modal\"></div>\n",
       "<div id=\"mdl-modal\"></div>\n",
       "<script src=\"/dist/en/js/main.js?v=6.4.27\" type=\"text/javascript\"></script>\n",
       "<!-- Start Alexa Certify Javascript -->\n",
       "<script type=\"text/javascript\">\n",
       "_atrk_opts = { atrk_acct:\"RcWWk1a4eFf2zM\", domain:\"mydramalist.com\",dynamic: true};\n",
       "(function() { var as = document.createElement('script'); as.type = 'text/javascript'; as.async = true; as.src = \"https://d31qbv1cthcecs.cloudfront.net/atrk.js\"; var s = document.getElementsByTagName('script')[0];s.parentNode.insertBefore(as, s); })();\n",
       "</script>\n",
       "<!-- End Alexa Certify Javascript (d) -->\n",
       "<noscript><img alt=\"\" height=\"1\" src=\"https://d5nxst8fruw4z.cloudfront.net/atrk.gif?account=RcWWk1a4eFf2zM\" style=\"display:none\" width=\"1\"/></noscript>\n",
       "<script async=\"\" id=\"mydramalist_Slider\" src=\"https://d2na2p72vtqyok.cloudfront.net/aniview-script/mydramalist_Slider.js\"></script>\n",
       "<script> window.lazyLoadOptions = { threshold: 300, }; window.addEventListener( \"LazyLoad::Initialized\", function (e) { }, false ); </script> <script async=\"\" src=\"https://cdn.jsdelivr.net/npm/vanilla-lazyload@17.1.3/dist/lazyload.min.js\"></script>\n",
       "</body></html>"
      ]
     },
     "execution_count": 29,
     "metadata": {},
     "output_type": "execute_result"
    }
   ],
   "source": [
    "soup"
   ]
  },
  {
   "cell_type": "code",
   "execution_count": 46,
   "metadata": {},
   "outputs": [
    {
     "data": {
      "text/plain": [
       "'Fight For My Way'"
      ]
     },
     "execution_count": 46,
     "metadata": {},
     "output_type": "execute_result"
    }
   ],
   "source": [
    "soup.select('a.text-primary')[0].get_text()"
   ]
  },
  {
   "cell_type": "code",
   "execution_count": 47,
   "metadata": {},
   "outputs": [
    {
     "data": {
      "text/plain": [
       "'hotfudgesundae'"
      ]
     },
     "execution_count": 47,
     "metadata": {},
     "output_type": "execute_result"
    }
   ],
   "source": [
    "soup.select('a.text-primary')[1].get_text()"
   ]
  },
  {
   "cell_type": "code",
   "execution_count": 51,
   "metadata": {},
   "outputs": [
    {
     "data": {
      "text/plain": [
       "'Other reviews by this user'"
      ]
     },
     "execution_count": 51,
     "metadata": {},
     "output_type": "execute_result"
    }
   ],
   "source": [
    "soup.select('a.text-primary')[2].get_text()"
   ]
  },
  {
   "cell_type": "code",
   "execution_count": 48,
   "metadata": {},
   "outputs": [
    {
     "data": {
      "text/plain": [
       "'Dear Mayang Street'"
      ]
     },
     "execution_count": 48,
     "metadata": {},
     "output_type": "execute_result"
    }
   ],
   "source": [
    "soup.select('a.text-primary')[3].get_text()"
   ]
  },
  {
   "cell_type": "code",
   "execution_count": 49,
   "metadata": {},
   "outputs": [
    {
     "data": {
      "text/plain": [
       "'ChineseDramaFan'"
      ]
     },
     "execution_count": 49,
     "metadata": {},
     "output_type": "execute_result"
    }
   ],
   "source": [
    "soup.select('a.text-primary')[4].get_text()"
   ]
  },
  {
   "cell_type": "code",
   "execution_count": 89,
   "metadata": {},
   "outputs": [],
   "source": [
    "raw = soup.select('a.text-primary')"
   ]
  },
  {
   "cell_type": "code",
   "execution_count": 90,
   "metadata": {},
   "outputs": [
    {
     "data": {
      "text/plain": [
       "[<a class=\"text-primary\" href=\"/22472-fight-for-my-way\">Fight For My Way</a>,\n",
       " <a class=\"text-primary\" href=\"/profile/hotfudgesundae_27\">hotfudgesundae</a>,\n",
       " <a class=\"text-primary\" href=\"/profile/hotfudgesundae_27/reviews\">Other reviews by this user</a>,\n",
       " <a class=\"text-primary\" href=\"/39579-dear-mayang-street\">Dear Mayang Street</a>,\n",
       " <a class=\"text-primary\" href=\"/profile/legendofzhen\">ChineseDramaFan</a>,\n",
       " <a class=\"text-primary\" href=\"/profile/legendofzhen/reviews\">Other reviews by this user</a>,\n",
       " <a class=\"text-primary\" href=\"/21308-mother\">Mother</a>,\n",
       " <a class=\"text-primary\" href=\"/profile/rexcelsior\">Nanu</a>,\n",
       " <a class=\"text-primary\" href=\"/profile/rexcelsior/reviews\">Other reviews by this user</a>,\n",
       " <a class=\"text-primary\" href=\"/55651-bkpp\">I Told Sunset About You</a>,\n",
       " <a class=\"text-primary\" href=\"/profile/Mantoi\">Mantoi</a>,\n",
       " <a class=\"text-primary\" href=\"/profile/Mantoi/reviews\">Other reviews by this user</a>,\n",
       " <a class=\"text-primary\" href=\"/28721-roy-arkart\">Roy Arkart</a>,\n",
       " <a class=\"text-primary\" href=\"/profile/8511207\">andriaa</a>,\n",
       " <a class=\"text-primary\" href=\"/profile/8511207/reviews\">Other reviews by this user</a>,\n",
       " <a class=\"text-primary\" href=\"/53985-poisoned-love\">Poisoned Love</a>,\n",
       " <a class=\"text-primary\" href=\"/profile/Jasti\">Jasti</a>,\n",
       " <a class=\"text-primary\" href=\"/profile/Jasti/reviews\">Other reviews by this user</a>,\n",
       " <a class=\"text-primary\" href=\"/42-devil-beside-you\">Devil Beside You</a>,\n",
       " <a class=\"text-primary\" href=\"/profile/Kittykoi\">Kittty</a>,\n",
       " <a class=\"text-primary\" href=\"/profile/Kittykoi/reviews\">Other reviews by this user</a>,\n",
       " <a class=\"text-primary\" href=\"/52541-love-by-chance-2\">Love By Chance 2: A Chance to Love</a>,\n",
       " <a class=\"text-primary\" href=\"/profile/dollopheadsandclotpoles\">dollopheadsandclotpoles</a>,\n",
       " <a class=\"text-primary\" href=\"/profile/dollopheadsandclotpoles/reviews\">Other reviews by this user</a>,\n",
       " <a class=\"text-primary\" href=\"/62143-youkai-share-house\">Youkai Sharehouse</a>,\n",
       " <a class=\"text-primary\" href=\"/profile/8243901\">WandereR</a>,\n",
       " <a class=\"text-primary\" href=\"/profile/8243901/reviews\">Other reviews by this user</a>,\n",
       " <a class=\"text-primary\" href=\"/26903-mistress\">Mistress</a>,\n",
       " <a class=\"text-primary\" href=\"/profile/Pinkpistacious\">Pinkpistacious</a>,\n",
       " <a class=\"text-primary\" href=\"/profile/Pinkpistacious/reviews\">Other reviews by this user</a>,\n",
       " <a class=\"text-primary\" href=\"/3386-king2hearts\">King2Hearts</a>,\n",
       " <a class=\"text-primary\" href=\"/profile/liv_well\">livmj</a>,\n",
       " <a class=\"text-primary\" href=\"/profile/liv_well/reviews\">Other reviews by this user</a>,\n",
       " <a class=\"text-primary\" href=\"/52541-love-by-chance-2\">Love By Chance 2: A Chance to Love</a>,\n",
       " <a class=\"text-primary\" href=\"/profile/8022973\">Chad</a>,\n",
       " <a class=\"text-primary\" href=\"/profile/8022973/reviews\">Other reviews by this user</a>,\n",
       " <a class=\"text-primary\" href=\"/52541-love-by-chance-2\">Love By Chance 2: A Chance to Love</a>,\n",
       " <a class=\"text-primary\" href=\"/profile/Synchonicity\">Synchonicity</a>,\n",
       " <a class=\"text-primary\" href=\"/profile/Synchonicity/reviews\">Other reviews by this user</a>,\n",
       " <a class=\"text-primary\" href=\"/52541-love-by-chance-2\">Love By Chance 2: A Chance to Love</a>,\n",
       " <a class=\"text-primary\" href=\"/profile/sony25t\">sony_t</a>,\n",
       " <a class=\"text-primary\" href=\"/profile/sony25t/reviews\">Other reviews by this user</a>,\n",
       " <a class=\"text-primary\" href=\"/55651-bkpp\">I Told Sunset About You</a>,\n",
       " <a class=\"text-primary\" href=\"/profile/8154493\">Aiman Namia</a>,\n",
       " <a class=\"text-primary\" href=\"/profile/8154493/reviews\">Other reviews by this user</a>,\n",
       " <a class=\"text-ellipsis text-primary\" href=\"/discussions/forum-games/49787-count-up-to-20000\">✰ Count up to 700000 ✰</a>,\n",
       " <a class=\"text-ellipsis text-primary\" href=\"/discussions/forum-games/49865-change-one-letter-to-make-a-new-word\">Change 1 letter to make a new word</a>,\n",
       " <a class=\"text-ellipsis text-primary\" href=\"/discussions/suggestions/48617-more-options-for-crew-members-music-producer-editor-etc\">More options for crew members (Music, Producer, Editor, etc)</a>,\n",
       " <a class=\"text-ellipsis text-primary\" href=\"/discussions/general-asia-forum/44385-which-was-the-last-drama-episode-you-watched-part-3\">Which Was the Last Drama Episode You Watched? Part 3</a>,\n",
       " <a class=\"text-ellipsis text-primary\" href=\"/discussions/forum-games/50045-10-dramas-movies-with-3\">10 dramas/movies with ___? #3</a>]"
      ]
     },
     "execution_count": 90,
     "metadata": {},
     "output_type": "execute_result"
    }
   ],
   "source": [
    "raw"
   ]
  },
  {
   "cell_type": "code",
   "execution_count": 53,
   "metadata": {},
   "outputs": [
    {
     "data": {
      "text/plain": [
       "50"
      ]
     },
     "execution_count": 53,
     "metadata": {},
     "output_type": "execute_result"
    }
   ],
   "source": [
    "len(raw)"
   ]
  },
  {
   "cell_type": "code",
   "execution_count": 72,
   "metadata": {},
   "outputs": [],
   "source": [
    "frame = pd.DataFrame(columns = ['Name', \"Reviewer\"])"
   ]
  },
  {
   "cell_type": "code",
   "execution_count": 57,
   "metadata": {},
   "outputs": [
    {
     "data": {
      "text/html": [
       "<div>\n",
       "<style scoped>\n",
       "    .dataframe tbody tr th:only-of-type {\n",
       "        vertical-align: middle;\n",
       "    }\n",
       "\n",
       "    .dataframe tbody tr th {\n",
       "        vertical-align: top;\n",
       "    }\n",
       "\n",
       "    .dataframe thead th {\n",
       "        text-align: right;\n",
       "    }\n",
       "</style>\n",
       "<table border=\"1\" class=\"dataframe\">\n",
       "  <thead>\n",
       "    <tr style=\"text-align: right;\">\n",
       "      <th></th>\n",
       "      <th>Name</th>\n",
       "      <th>Reviewer</th>\n",
       "      <th>Blah</th>\n",
       "    </tr>\n",
       "  </thead>\n",
       "  <tbody>\n",
       "  </tbody>\n",
       "</table>\n",
       "</div>"
      ],
      "text/plain": [
       "Empty DataFrame\n",
       "Columns: [Name, Reviewer, Blah]\n",
       "Index: []"
      ]
     },
     "execution_count": 57,
     "metadata": {},
     "output_type": "execute_result"
    }
   ],
   "source": [
    "frame"
   ]
  },
  {
   "cell_type": "code",
   "execution_count": 62,
   "metadata": {},
   "outputs": [
    {
     "data": {
      "text/plain": [
       "<a class=\"text-primary\" href=\"/profile/hotfudgesundae_27\">hotfudgesundae</a>"
      ]
     },
     "execution_count": 62,
     "metadata": {},
     "output_type": "execute_result"
    }
   ],
   "source": [
    "raw[1]"
   ]
  },
  {
   "cell_type": "code",
   "execution_count": null,
   "metadata": {},
   "outputs": [],
   "source": []
  },
  {
   "cell_type": "code",
   "execution_count": 88,
   "metadata": {},
   "outputs": [
    {
     "data": {
      "text/plain": [
       "[<a class=\"text-primary\" href=\"/22472-fight-for-my-way\">Fight For My Way</a>,\n",
       " <a class=\"text-primary\" href=\"/profile/hotfudgesundae_27\">hotfudgesundae</a>,\n",
       " <a class=\"text-primary\" href=\"/profile/hotfudgesundae_27/reviews\">Other reviews by this user</a>,\n",
       " <a class=\"text-primary\" href=\"/39579-dear-mayang-street\">Dear Mayang Street</a>,\n",
       " <a class=\"text-primary\" href=\"/profile/legendofzhen\">ChineseDramaFan</a>,\n",
       " <a class=\"text-primary\" href=\"/profile/legendofzhen/reviews\">Other reviews by this user</a>,\n",
       " <a class=\"text-primary\" href=\"/21308-mother\">Mother</a>,\n",
       " <a class=\"text-primary\" href=\"/profile/rexcelsior\">Nanu</a>,\n",
       " <a class=\"text-primary\" href=\"/profile/rexcelsior/reviews\">Other reviews by this user</a>,\n",
       " <a class=\"text-primary\" href=\"/55651-bkpp\">I Told Sunset About You</a>,\n",
       " <a class=\"text-primary\" href=\"/profile/Mantoi\">Mantoi</a>,\n",
       " <a class=\"text-primary\" href=\"/profile/Mantoi/reviews\">Other reviews by this user</a>,\n",
       " <a class=\"text-primary\" href=\"/28721-roy-arkart\">Roy Arkart</a>,\n",
       " <a class=\"text-primary\" href=\"/profile/8511207\">andriaa</a>,\n",
       " <a class=\"text-primary\" href=\"/profile/8511207/reviews\">Other reviews by this user</a>,\n",
       " <a class=\"text-primary\" href=\"/53985-poisoned-love\">Poisoned Love</a>,\n",
       " <a class=\"text-primary\" href=\"/profile/Jasti\">Jasti</a>,\n",
       " <a class=\"text-primary\" href=\"/profile/Jasti/reviews\">Other reviews by this user</a>,\n",
       " <a class=\"text-primary\" href=\"/42-devil-beside-you\">Devil Beside You</a>,\n",
       " <a class=\"text-primary\" href=\"/profile/Kittykoi\">Kittty</a>,\n",
       " <a class=\"text-primary\" href=\"/profile/Kittykoi/reviews\">Other reviews by this user</a>,\n",
       " <a class=\"text-primary\" href=\"/52541-love-by-chance-2\">Love By Chance 2: A Chance to Love</a>,\n",
       " <a class=\"text-primary\" href=\"/profile/dollopheadsandclotpoles\">dollopheadsandclotpoles</a>,\n",
       " <a class=\"text-primary\" href=\"/profile/dollopheadsandclotpoles/reviews\">Other reviews by this user</a>,\n",
       " <a class=\"text-primary\" href=\"/62143-youkai-share-house\">Youkai Sharehouse</a>,\n",
       " <a class=\"text-primary\" href=\"/profile/8243901\">WandereR</a>,\n",
       " <a class=\"text-primary\" href=\"/profile/8243901/reviews\">Other reviews by this user</a>,\n",
       " <a class=\"text-primary\" href=\"/26903-mistress\">Mistress</a>,\n",
       " <a class=\"text-primary\" href=\"/profile/Pinkpistacious\">Pinkpistacious</a>,\n",
       " <a class=\"text-primary\" href=\"/profile/Pinkpistacious/reviews\">Other reviews by this user</a>,\n",
       " <a class=\"text-primary\" href=\"/3386-king2hearts\">King2Hearts</a>,\n",
       " <a class=\"text-primary\" href=\"/profile/liv_well\">livmj</a>,\n",
       " <a class=\"text-primary\" href=\"/profile/liv_well/reviews\">Other reviews by this user</a>,\n",
       " <a class=\"text-primary\" href=\"/52541-love-by-chance-2\">Love By Chance 2: A Chance to Love</a>,\n",
       " <a class=\"text-primary\" href=\"/profile/8022973\">Chad</a>,\n",
       " <a class=\"text-primary\" href=\"/profile/8022973/reviews\">Other reviews by this user</a>,\n",
       " <a class=\"text-primary\" href=\"/52541-love-by-chance-2\">Love By Chance 2: A Chance to Love</a>,\n",
       " <a class=\"text-primary\" href=\"/profile/Synchonicity\">Synchonicity</a>,\n",
       " <a class=\"text-primary\" href=\"/profile/Synchonicity/reviews\">Other reviews by this user</a>,\n",
       " <a class=\"text-primary\" href=\"/52541-love-by-chance-2\">Love By Chance 2: A Chance to Love</a>,\n",
       " <a class=\"text-primary\" href=\"/profile/sony25t\">sony_t</a>,\n",
       " <a class=\"text-primary\" href=\"/profile/sony25t/reviews\">Other reviews by this user</a>,\n",
       " <a class=\"text-primary\" href=\"/55651-bkpp\">I Told Sunset About You</a>,\n",
       " <a class=\"text-primary\" href=\"/profile/8154493\">Aiman Namia</a>,\n",
       " <a class=\"text-primary\" href=\"/profile/8154493/reviews\">Other reviews by this user</a>,\n",
       " <a class=\"text-ellipsis text-primary\" href=\"/discussions/forum-games/49787-count-up-to-20000\">✰ Count up to 700000 ✰</a>,\n",
       " <a class=\"text-ellipsis text-primary\" href=\"/discussions/forum-games/49865-change-one-letter-to-make-a-new-word\">Change 1 letter to make a new word</a>,\n",
       " <a class=\"text-ellipsis text-primary\" href=\"/discussions/suggestions/48617-more-options-for-crew-members-music-producer-editor-etc\">More options for crew members (Music, Producer, Editor, etc)</a>,\n",
       " <a class=\"text-ellipsis text-primary\" href=\"/discussions/general-asia-forum/44385-which-was-the-last-drama-episode-you-watched-part-3\">Which Was the Last Drama Episode You Watched? Part 3</a>,\n",
       " <a class=\"text-ellipsis text-primary\" href=\"/discussions/forum-games/50045-10-dramas-movies-with-3\">10 dramas/movies with ___? #3</a>]"
      ]
     },
     "execution_count": 88,
     "metadata": {},
     "output_type": "execute_result"
    }
   ],
   "source": [
    "raw"
   ]
  },
  {
   "cell_type": "code",
   "execution_count": 86,
   "metadata": {},
   "outputs": [],
   "source": [
    "frame = pd.DataFrame(columns = ['Name', \"Reviewer\"])\n",
    "for i in range(13):\n",
    "    list = [raw[3*i].get_text(), raw[3*i+1].get_text()]\n",
    "    imsi = pd.DataFrame([list],columns = ['Name', 'Reviewer'])\n",
    "    frame = frame.append(imsi)"
   ]
  },
  {
   "cell_type": "code",
   "execution_count": 87,
   "metadata": {},
   "outputs": [
    {
     "data": {
      "text/html": [
       "<div>\n",
       "<style scoped>\n",
       "    .dataframe tbody tr th:only-of-type {\n",
       "        vertical-align: middle;\n",
       "    }\n",
       "\n",
       "    .dataframe tbody tr th {\n",
       "        vertical-align: top;\n",
       "    }\n",
       "\n",
       "    .dataframe thead th {\n",
       "        text-align: right;\n",
       "    }\n",
       "</style>\n",
       "<table border=\"1\" class=\"dataframe\">\n",
       "  <thead>\n",
       "    <tr style=\"text-align: right;\">\n",
       "      <th></th>\n",
       "      <th>Name</th>\n",
       "      <th>Reviewer</th>\n",
       "    </tr>\n",
       "  </thead>\n",
       "  <tbody>\n",
       "    <tr>\n",
       "      <th>0</th>\n",
       "      <td>Fight For My Way</td>\n",
       "      <td>hotfudgesundae</td>\n",
       "    </tr>\n",
       "    <tr>\n",
       "      <th>0</th>\n",
       "      <td>Dear Mayang Street</td>\n",
       "      <td>ChineseDramaFan</td>\n",
       "    </tr>\n",
       "    <tr>\n",
       "      <th>0</th>\n",
       "      <td>Mother</td>\n",
       "      <td>Nanu</td>\n",
       "    </tr>\n",
       "    <tr>\n",
       "      <th>0</th>\n",
       "      <td>I Told Sunset About You</td>\n",
       "      <td>Mantoi</td>\n",
       "    </tr>\n",
       "    <tr>\n",
       "      <th>0</th>\n",
       "      <td>Roy Arkart</td>\n",
       "      <td>andriaa</td>\n",
       "    </tr>\n",
       "    <tr>\n",
       "      <th>0</th>\n",
       "      <td>Poisoned Love</td>\n",
       "      <td>Jasti</td>\n",
       "    </tr>\n",
       "    <tr>\n",
       "      <th>0</th>\n",
       "      <td>Devil Beside You</td>\n",
       "      <td>Kittty</td>\n",
       "    </tr>\n",
       "    <tr>\n",
       "      <th>0</th>\n",
       "      <td>Love By Chance 2: A Chance to Love</td>\n",
       "      <td>dollopheadsandclotpoles</td>\n",
       "    </tr>\n",
       "    <tr>\n",
       "      <th>0</th>\n",
       "      <td>Youkai Sharehouse</td>\n",
       "      <td>WandereR</td>\n",
       "    </tr>\n",
       "    <tr>\n",
       "      <th>0</th>\n",
       "      <td>Mistress</td>\n",
       "      <td>Pinkpistacious</td>\n",
       "    </tr>\n",
       "    <tr>\n",
       "      <th>0</th>\n",
       "      <td>King2Hearts</td>\n",
       "      <td>livmj</td>\n",
       "    </tr>\n",
       "    <tr>\n",
       "      <th>0</th>\n",
       "      <td>Love By Chance 2: A Chance to Love</td>\n",
       "      <td>Chad</td>\n",
       "    </tr>\n",
       "    <tr>\n",
       "      <th>0</th>\n",
       "      <td>Love By Chance 2: A Chance to Love</td>\n",
       "      <td>Synchonicity</td>\n",
       "    </tr>\n",
       "  </tbody>\n",
       "</table>\n",
       "</div>"
      ],
      "text/plain": [
       "                                 Name                 Reviewer\n",
       "0                    Fight For My Way           hotfudgesundae\n",
       "0                  Dear Mayang Street          ChineseDramaFan\n",
       "0                              Mother                     Nanu\n",
       "0             I Told Sunset About You                   Mantoi\n",
       "0                          Roy Arkart                  andriaa\n",
       "0                       Poisoned Love                    Jasti\n",
       "0                    Devil Beside You                   Kittty\n",
       "0  Love By Chance 2: A Chance to Love  dollopheadsandclotpoles\n",
       "0                   Youkai Sharehouse                 WandereR\n",
       "0                            Mistress           Pinkpistacious\n",
       "0                         King2Hearts                    livmj\n",
       "0  Love By Chance 2: A Chance to Love                     Chad\n",
       "0  Love By Chance 2: A Chance to Love             Synchonicity"
      ]
     },
     "execution_count": 87,
     "metadata": {},
     "output_type": "execute_result"
    }
   ],
   "source": [
    "frame.reset_index"
   ]
  },
  {
   "cell_type": "code",
   "execution_count": 69,
   "metadata": {},
   "outputs": [],
   "source": [
    "list = [raw[0].get_text(), raw[1].get_text()]"
   ]
  },
  {
   "cell_type": "code",
   "execution_count": 70,
   "metadata": {},
   "outputs": [
    {
     "data": {
      "text/plain": [
       "['Fight For My Way', 'hotfudgesundae']"
      ]
     },
     "execution_count": 70,
     "metadata": {},
     "output_type": "execute_result"
    }
   ],
   "source": [
    "list"
   ]
  },
  {
   "cell_type": "code",
   "execution_count": 83,
   "metadata": {},
   "outputs": [],
   "source": [
    "frame = pd.DataFrame([list],columns = ['Name', \"Reviewer\"])"
   ]
  },
  {
   "cell_type": "code",
   "execution_count": 85,
   "metadata": {},
   "outputs": [
    {
     "data": {
      "text/html": [
       "<div>\n",
       "<style scoped>\n",
       "    .dataframe tbody tr th:only-of-type {\n",
       "        vertical-align: middle;\n",
       "    }\n",
       "\n",
       "    .dataframe tbody tr th {\n",
       "        vertical-align: top;\n",
       "    }\n",
       "\n",
       "    .dataframe thead th {\n",
       "        text-align: right;\n",
       "    }\n",
       "</style>\n",
       "<table border=\"1\" class=\"dataframe\">\n",
       "  <thead>\n",
       "    <tr style=\"text-align: right;\">\n",
       "      <th></th>\n",
       "      <th>Name</th>\n",
       "      <th>Reviewer</th>\n",
       "    </tr>\n",
       "  </thead>\n",
       "  <tbody>\n",
       "    <tr>\n",
       "      <th>0</th>\n",
       "      <td>Fight For My Way</td>\n",
       "      <td>hotfudgesundae</td>\n",
       "    </tr>\n",
       "    <tr>\n",
       "      <th>0</th>\n",
       "      <td>Fight For My Way</td>\n",
       "      <td>hotfudgesundae</td>\n",
       "    </tr>\n",
       "  </tbody>\n",
       "</table>\n",
       "</div>"
      ],
      "text/plain": [
       "               Name        Reviewer\n",
       "0  Fight For My Way  hotfudgesundae\n",
       "0  Fight For My Way  hotfudgesundae"
      ]
     },
     "execution_count": 85,
     "metadata": {},
     "output_type": "execute_result"
    }
   ],
   "source": [
    "frame.append(frame)"
   ]
  },
  {
   "cell_type": "code",
   "execution_count": 80,
   "metadata": {
    "scrolled": true
   },
   "outputs": [
    {
     "ename": "TypeError",
     "evalue": "first argument must be an iterable of pandas objects, you passed an object of type \"DataFrame\"",
     "output_type": "error",
     "traceback": [
      "\u001b[1;31m---------------------------------------------------------------------------\u001b[0m",
      "\u001b[1;31mTypeError\u001b[0m                                 Traceback (most recent call last)",
      "\u001b[1;32m<ipython-input-80-a42b3817d961>\u001b[0m in \u001b[0;36m<module>\u001b[1;34m\u001b[0m\n\u001b[1;32m----> 1\u001b[1;33m \u001b[0mpd\u001b[0m\u001b[1;33m.\u001b[0m\u001b[0mconcat\u001b[0m\u001b[1;33m(\u001b[0m\u001b[0mframe\u001b[0m\u001b[1;33m,\u001b[0m\u001b[0mlist\u001b[0m\u001b[1;33m)\u001b[0m\u001b[1;33m\u001b[0m\u001b[1;33m\u001b[0m\u001b[0m\n\u001b[0m",
      "\u001b[1;32m~\\Anaconda3\\lib\\site-packages\\pandas\\core\\reshape\\concat.py\u001b[0m in \u001b[0;36mconcat\u001b[1;34m(objs, axis, join, ignore_index, keys, levels, names, verify_integrity, sort, copy)\u001b[0m\n\u001b[0;32m    282\u001b[0m         \u001b[0mverify_integrity\u001b[0m\u001b[1;33m=\u001b[0m\u001b[0mverify_integrity\u001b[0m\u001b[1;33m,\u001b[0m\u001b[1;33m\u001b[0m\u001b[1;33m\u001b[0m\u001b[0m\n\u001b[0;32m    283\u001b[0m         \u001b[0mcopy\u001b[0m\u001b[1;33m=\u001b[0m\u001b[0mcopy\u001b[0m\u001b[1;33m,\u001b[0m\u001b[1;33m\u001b[0m\u001b[1;33m\u001b[0m\u001b[0m\n\u001b[1;32m--> 284\u001b[1;33m         \u001b[0msort\u001b[0m\u001b[1;33m=\u001b[0m\u001b[0msort\u001b[0m\u001b[1;33m,\u001b[0m\u001b[1;33m\u001b[0m\u001b[1;33m\u001b[0m\u001b[0m\n\u001b[0m\u001b[0;32m    285\u001b[0m     )\n\u001b[0;32m    286\u001b[0m \u001b[1;33m\u001b[0m\u001b[0m\n",
      "\u001b[1;32m~\\Anaconda3\\lib\\site-packages\\pandas\\core\\reshape\\concat.py\u001b[0m in \u001b[0;36m__init__\u001b[1;34m(self, objs, axis, join, keys, levels, names, ignore_index, verify_integrity, copy, sort)\u001b[0m\n\u001b[0;32m    308\u001b[0m         \u001b[1;32mif\u001b[0m \u001b[0misinstance\u001b[0m\u001b[1;33m(\u001b[0m\u001b[0mobjs\u001b[0m\u001b[1;33m,\u001b[0m \u001b[1;33m(\u001b[0m\u001b[0mABCSeries\u001b[0m\u001b[1;33m,\u001b[0m \u001b[0mABCDataFrame\u001b[0m\u001b[1;33m,\u001b[0m \u001b[0mstr\u001b[0m\u001b[1;33m)\u001b[0m\u001b[1;33m)\u001b[0m\u001b[1;33m:\u001b[0m\u001b[1;33m\u001b[0m\u001b[1;33m\u001b[0m\u001b[0m\n\u001b[0;32m    309\u001b[0m             raise TypeError(\n\u001b[1;32m--> 310\u001b[1;33m                 \u001b[1;34m\"first argument must be an iterable of pandas \"\u001b[0m\u001b[1;33m\u001b[0m\u001b[1;33m\u001b[0m\u001b[0m\n\u001b[0m\u001b[0;32m    311\u001b[0m                 \u001b[1;34mf'objects, you passed an object of type \"{type(objs).__name__}\"'\u001b[0m\u001b[1;33m\u001b[0m\u001b[1;33m\u001b[0m\u001b[0m\n\u001b[0;32m    312\u001b[0m             )\n",
      "\u001b[1;31mTypeError\u001b[0m: first argument must be an iterable of pandas objects, you passed an object of type \"DataFrame\""
     ]
    }
   ],
   "source": [
    "pd.concat(frame,list)"
   ]
  },
  {
   "cell_type": "code",
   "execution_count": 81,
   "metadata": {},
   "outputs": [],
   "source": [
    "pd.concat?"
   ]
  },
  {
   "cell_type": "code",
   "execution_count": null,
   "metadata": {},
   "outputs": [],
   "source": []
  }
 ],
 "metadata": {
  "kernelspec": {
   "display_name": "Python 3",
   "language": "python",
   "name": "python3"
  },
  "language_info": {
   "codemirror_mode": {
    "name": "ipython",
    "version": 3
   },
   "file_extension": ".py",
   "mimetype": "text/x-python",
   "name": "python",
   "nbconvert_exporter": "python",
   "pygments_lexer": "ipython3",
   "version": "3.7.4"
  }
 },
 "nbformat": 4,
 "nbformat_minor": 2
}
